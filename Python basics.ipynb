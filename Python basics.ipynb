{
 "cells": [
  {
   "cell_type": "code",
   "execution_count": 1,
   "id": "e1724a98",
   "metadata": {},
   "outputs": [
    {
     "data": {
      "text/plain": [
       "['False',\n",
       " 'None',\n",
       " 'True',\n",
       " '__peg_parser__',\n",
       " 'and',\n",
       " 'as',\n",
       " 'assert',\n",
       " 'async',\n",
       " 'await',\n",
       " 'break',\n",
       " 'class',\n",
       " 'continue',\n",
       " 'def',\n",
       " 'del',\n",
       " 'elif',\n",
       " 'else',\n",
       " 'except',\n",
       " 'finally',\n",
       " 'for',\n",
       " 'from',\n",
       " 'global',\n",
       " 'if',\n",
       " 'import',\n",
       " 'in',\n",
       " 'is',\n",
       " 'lambda',\n",
       " 'nonlocal',\n",
       " 'not',\n",
       " 'or',\n",
       " 'pass',\n",
       " 'raise',\n",
       " 'return',\n",
       " 'try',\n",
       " 'while',\n",
       " 'with',\n",
       " 'yield']"
      ]
     },
     "execution_count": 1,
     "metadata": {},
     "output_type": "execute_result"
    }
   ],
   "source": [
    "import keyword\n",
    "keyword.kwlist"
   ]
  },
  {
   "cell_type": "code",
   "execution_count": 2,
   "id": "4534b560",
   "metadata": {},
   "outputs": [
    {
     "data": {
      "text/plain": [
       "['False',\n",
       " 'None',\n",
       " 'True',\n",
       " '__peg_parser__',\n",
       " 'and',\n",
       " 'as',\n",
       " 'assert',\n",
       " 'async',\n",
       " 'await',\n",
       " 'break',\n",
       " 'class',\n",
       " 'continue',\n",
       " 'def',\n",
       " 'del',\n",
       " 'elif',\n",
       " 'else',\n",
       " 'except',\n",
       " 'finally',\n",
       " 'for',\n",
       " 'from',\n",
       " 'global',\n",
       " 'if',\n",
       " 'import',\n",
       " 'in',\n",
       " 'is',\n",
       " 'lambda',\n",
       " 'nonlocal',\n",
       " 'not',\n",
       " 'or',\n",
       " 'pass',\n",
       " 'raise',\n",
       " 'return',\n",
       " 'try',\n",
       " 'while',\n",
       " 'with',\n",
       " 'yield']"
      ]
     },
     "execution_count": 2,
     "metadata": {},
     "output_type": "execute_result"
    }
   ],
   "source": [
    "import keyword\n",
    "keyword.kwlist"
   ]
  },
  {
   "cell_type": "code",
   "execution_count": 3,
   "id": "f3b4087c",
   "metadata": {},
   "outputs": [
    {
     "data": {
      "text/plain": [
       "11"
      ]
     },
     "execution_count": 3,
     "metadata": {},
     "output_type": "execute_result"
    }
   ],
   "source": [
    "2+9"
   ]
  },
  {
   "cell_type": "code",
   "execution_count": 4,
   "id": "a06f0464",
   "metadata": {},
   "outputs": [
    {
     "data": {
      "text/plain": [
       "True"
      ]
     },
     "execution_count": 4,
     "metadata": {},
     "output_type": "execute_result"
    }
   ],
   "source": [
    "keyword.iskeyword('try')"
   ]
  },
  {
   "cell_type": "code",
   "execution_count": 5,
   "id": "24fd71ff",
   "metadata": {},
   "outputs": [
    {
     "data": {
      "text/plain": [
       "False"
      ]
     },
     "execution_count": 5,
     "metadata": {},
     "output_type": "execute_result"
    }
   ],
   "source": [
    "keyword.iskeyword('umrah')"
   ]
  },
  {
   "cell_type": "code",
   "execution_count": 6,
   "id": "cb4ddba2",
   "metadata": {},
   "outputs": [],
   "source": [
    "name='umrah'\n",
    "my_identifier=name"
   ]
  },
  {
   "cell_type": "code",
   "execution_count": 11,
   "id": "8045fdc4",
   "metadata": {},
   "outputs": [],
   "source": [
    "name = 'umrah'\n",
    "my_identifier = name"
   ]
  },
  {
   "cell_type": "code",
   "execution_count": 10,
   "id": "84c86c66",
   "metadata": {},
   "outputs": [],
   "source": [
    "# basics\n"
   ]
  },
  {
   "cell_type": "code",
   "execution_count": 9,
   "id": "fa352f72",
   "metadata": {},
   "outputs": [],
   "source": [
    "# used in comment"
   ]
  },
  {
   "cell_type": "code",
   "execution_count": 12,
   "id": "d455c671",
   "metadata": {},
   "outputs": [
    {
     "name": "stdout",
     "output_type": "stream",
     "text": [
      "10\n"
     ]
    }
   ],
   "source": [
    "s = 10\n",
    "print(s)"
   ]
  },
  {
   "cell_type": "code",
   "execution_count": 13,
   "id": "d42ea5fd",
   "metadata": {},
   "outputs": [
    {
     "name": "stdout",
     "output_type": "stream",
     "text": [
      "10\n"
     ]
    },
    {
     "ename": "NameError",
     "evalue": "name 'function' is not defined",
     "output_type": "error",
     "traceback": [
      "\u001b[1;31m---------------------------------------------------------------------------\u001b[0m",
      "\u001b[1;31mNameError\u001b[0m                                 Traceback (most recent call last)",
      "\u001b[1;32m~\\AppData\\Local\\Temp/ipykernel_6048/38559096.py\u001b[0m in \u001b[0;36m<module>\u001b[1;34m\u001b[0m\n\u001b[0;32m      5\u001b[0m     \u001b[0mprint\u001b[0m\u001b[1;33m(\u001b[0m\u001b[0ma\u001b[0m\u001b[1;33m)\u001b[0m\u001b[1;33m\u001b[0m\u001b[1;33m\u001b[0m\u001b[0m\n\u001b[0;32m      6\u001b[0m \u001b[0mprint\u001b[0m\u001b[1;33m(\u001b[0m\u001b[0ma\u001b[0m\u001b[1;33m)\u001b[0m\u001b[1;33m\u001b[0m\u001b[1;33m\u001b[0m\u001b[0m\n\u001b[1;32m----> 7\u001b[1;33m \u001b[0mfunction\u001b[0m\u001b[1;33m(\u001b[0m\u001b[1;33m)\u001b[0m\u001b[1;33m\u001b[0m\u001b[1;33m\u001b[0m\u001b[0m\n\u001b[0m",
      "\u001b[1;31mNameError\u001b[0m: name 'function' is not defined"
     ]
    }
   ],
   "source": [
    "a =10\n",
    "def function():\n",
    "    global a\n",
    "    a += 10\n",
    "    print(a)\n",
    "print(a)\n",
    "function()"
   ]
  },
  {
   "cell_type": "code",
   "execution_count": 14,
   "id": "f7917009",
   "metadata": {},
   "outputs": [
    {
     "name": "stdout",
     "output_type": "stream",
     "text": [
      "10\n",
      "20\n"
     ]
    }
   ],
   "source": [
    "a =10\n",
    "def function():\n",
    "    global a\n",
    "    a += 10\n",
    "    print(a)\n",
    "print(a)\n",
    "function()"
   ]
  },
  {
   "cell_type": "code",
   "execution_count": 16,
   "id": "a63ade6c",
   "metadata": {},
   "outputs": [
    {
     "name": "stdout",
     "output_type": "stream",
     "text": [
      "['csk', 'rcb', 'mi', 'csk', 'rcb', 'mi']\n"
     ]
    }
   ],
   "source": [
    "# List \n",
    "my_list = [\"csk\",\"rcb\",\"mi\",\"csk\",\"rcb\",\"mi\"]\n",
    "print(my_list)\n"
   ]
  },
  {
   "cell_type": "code",
   "execution_count": 17,
   "id": "6bc2fa3a",
   "metadata": {},
   "outputs": [
    {
     "data": {
      "text/plain": [
       "6"
      ]
     },
     "execution_count": 17,
     "metadata": {},
     "output_type": "execute_result"
    }
   ],
   "source": [
    "len(my_list)"
   ]
  },
  {
   "cell_type": "code",
   "execution_count": 18,
   "id": "c55ce49a",
   "metadata": {},
   "outputs": [
    {
     "name": "stdout",
     "output_type": "stream",
     "text": [
      "6\n"
     ]
    }
   ],
   "source": [
    "print(len(my_list))"
   ]
  },
  {
   "cell_type": "code",
   "execution_count": 21,
   "id": "8bbb341b",
   "metadata": {},
   "outputs": [
    {
     "name": "stdout",
     "output_type": "stream",
     "text": [
      "['csk', 'rcb', 'mi'] [1, 2, 3, 5, 4] [True, False]\n"
     ]
    }
   ],
   "source": [
    "list1 = [\"csk\",\"rcb\",\"mi\"]\n",
    "list2 = [1,2,3,5,4]\n",
    "list3 = [True, False]\n",
    "print(list1, list2, list3)"
   ]
  },
  {
   "cell_type": "code",
   "execution_count": 23,
   "id": "86a6bdf6",
   "metadata": {},
   "outputs": [
    {
     "name": "stdout",
     "output_type": "stream",
     "text": [
      "['csk', 'rcb', 'mi', 1, 2, 3, 5, 4, 'Male', 'Female']\n"
     ]
    }
   ],
   "source": [
    "list1 = [\"csk\",\"rcb\",\"mi\",1,2,3,5,4,\"Male\",\"Female\"]\n",
    "print(list1)"
   ]
  },
  {
   "cell_type": "code",
   "execution_count": 24,
   "id": "c4a5134d",
   "metadata": {},
   "outputs": [
    {
     "name": "stdout",
     "output_type": "stream",
     "text": [
      "('csk', 'rcb', 'mi')\n"
     ]
    }
   ],
   "source": [
    "#Tuple\n",
    "tuple1 = (\"csk\",\"rcb\",\"mi\")\n",
    "print(tuple1)\n"
   ]
  },
  {
   "cell_type": "code",
   "execution_count": 25,
   "id": "da1e17b7",
   "metadata": {},
   "outputs": [
    {
     "name": "stdout",
     "output_type": "stream",
     "text": [
      "['csk', 'rcb', 'mi', 'csk', 'rcb', 'mi']\n"
     ]
    }
   ],
   "source": [
    "my_tuple = [\"csk\",\"rcb\",\"mi\",\"csk\",\"rcb\",\"mi\"]\n",
    "\n",
    "print(my_tuple)"
   ]
  },
  {
   "cell_type": "code",
   "execution_count": 26,
   "id": "3c3ae2d0",
   "metadata": {},
   "outputs": [
    {
     "name": "stdout",
     "output_type": "stream",
     "text": [
      "('csk', 'rcb', 'mi', 'csk', 'rcb', 'mi')\n"
     ]
    }
   ],
   "source": [
    "my_tuple = (\"csk\",\"rcb\",\"mi\",\"csk\",\"rcb\",\"mi\")\n",
    "\n",
    "print(my_tuple)"
   ]
  },
  {
   "cell_type": "code",
   "execution_count": 28,
   "id": "83fca89a",
   "metadata": {},
   "outputs": [
    {
     "name": "stdout",
     "output_type": "stream",
     "text": [
      "6\n"
     ]
    }
   ],
   "source": [
    "print(len(my_tuple))"
   ]
  },
  {
   "cell_type": "code",
   "execution_count": 29,
   "id": "f1899e02",
   "metadata": {},
   "outputs": [
    {
     "name": "stdout",
     "output_type": "stream",
     "text": [
      "{'mi', 'csk', 'rcb'}\n"
     ]
    }
   ],
   "source": [
    "#sets- multiple item in single cell \n",
    "set = {\"csk\",\"rcb\",\"mi\"}\n",
    "print(set)\n",
    "\n"
   ]
  },
  {
   "cell_type": "code",
   "execution_count": 31,
   "id": "55624e9c",
   "metadata": {},
   "outputs": [
    {
     "name": "stdout",
     "output_type": "stream",
     "text": [
      "{'mi', 'csk', 'rcb', 'rj'}\n"
     ]
    }
   ],
   "source": [
    "set = {\"csk\",\"rcb\",\"mi\",\"csk\",\"rcb\",\"mi\",\"rj\"}\n",
    "print(set)"
   ]
  },
  {
   "cell_type": "code",
   "execution_count": 32,
   "id": "959d1874",
   "metadata": {},
   "outputs": [
    {
     "name": "stdout",
     "output_type": "stream",
     "text": [
      "{1, 2, 3, 4, 'rcb', 5, 'csk', 'Male', 'Female', 'mi'}\n"
     ]
    }
   ],
   "source": [
    "set = {\"csk\",\"rcb\",\"mi\",1,2,3,5,4,\"Male\",\"Female\"}\n",
    "print(set)"
   ]
  },
  {
   "cell_type": "code",
   "execution_count": 33,
   "id": "62e1f626",
   "metadata": {},
   "outputs": [
    {
     "name": "stdout",
     "output_type": "stream",
     "text": [
      "{1, 2, 3, 4, 'rcb', 5, 'csk', 'Male', 'Female', 'mi'}\n"
     ]
    }
   ],
   "source": [
    " \n",
    "set = {\"csk\",\"rcb\",\"mi\",1,2,3,5,4,\"Male\",\"Female\"}\n",
    "print(set)"
   ]
  },
  {
   "cell_type": "code",
   "execution_count": 34,
   "id": "6c10a524",
   "metadata": {},
   "outputs": [
    {
     "name": "stdout",
     "output_type": "stream",
     "text": [
      "{1, 2, 3, 5, 'rcb', 'csk', 'Male', 'Female', 'mi'}\n"
     ]
    }
   ],
   "source": [
    "set = {\"csk\",\"rcb\",\"mi\",1,2,3,5,5,\"Male\",\"Female\"}\n",
    "print(set)\n"
   ]
  },
  {
   "cell_type": "code",
   "execution_count": 35,
   "id": "e1711156",
   "metadata": {},
   "outputs": [
    {
     "name": "stdout",
     "output_type": "stream",
     "text": [
      "{1, 2, 3, 5, 'rcb', 8, 'csk', 'Male', 'Female', 'mi'}\n"
     ]
    }
   ],
   "source": [
    "set = {\"csk\",\"rcb\",\"mi\",1,2,3,5,8,\"Male\",\"Female\"}\n",
    "print(set)"
   ]
  },
  {
   "cell_type": "code",
   "execution_count": 36,
   "id": "4de2fa66",
   "metadata": {},
   "outputs": [
    {
     "name": "stdout",
     "output_type": "stream",
     "text": [
      "78\n",
      "79\n"
     ]
    }
   ],
   "source": [
    "a =78\n",
    "def function():\n",
    "    global a\n",
    "    a += 1\n",
    "    print(a)\n",
    "print(a)\n",
    "function()"
   ]
  },
  {
   "cell_type": "code",
   "execution_count": 1,
   "id": "50d99d70",
   "metadata": {},
   "outputs": [
    {
     "name": "stdout",
     "output_type": "stream",
     "text": [
      "nPositional order: \n",
      "toWelcomeUST\n"
     ]
    }
   ],
   "source": [
    "#string\n",
    "string1 = \"{1}{0}{2}\".format('Welcome','to','UST')\n",
    "print(\"nPositional order: \")\n",
    "print(string1)"
   ]
  },
  {
   "cell_type": "code",
   "execution_count": 3,
   "id": "cb4b835a",
   "metadata": {},
   "outputs": [
    {
     "name": "stdout",
     "output_type": "stream",
     "text": [
      "20.0\n"
     ]
    }
   ],
   "source": [
    "#converting to float\n",
    "A = 20\n",
    "\n",
    "B = float(A)\n",
    "print(B)"
   ]
  },
  {
   "cell_type": "code",
   "execution_count": 4,
   "id": "c1f9072a",
   "metadata": {},
   "outputs": [
    {
     "name": "stdout",
     "output_type": "stream",
     "text": [
      "4\n"
     ]
    }
   ],
   "source": [
    "#float to integer\n",
    "a = 4.6\n",
    "c = int(a)\n",
    "print(c)\n"
   ]
  },
  {
   "cell_type": "code",
   "execution_count": 5,
   "id": "4c9589db",
   "metadata": {},
   "outputs": [
    {
     "name": "stdout",
     "output_type": "stream",
     "text": [
      "[1, 2, 3, 4, 9]\n"
     ]
    }
   ],
   "source": [
    "a = [1,2,3,4,7,9]\n",
    "a.remove(7)\n",
    "print(a)"
   ]
  },
  {
   "cell_type": "code",
   "execution_count": 8,
   "id": "73712b68",
   "metadata": {},
   "outputs": [
    {
     "name": "stdout",
     "output_type": "stream",
     "text": [
      "['a', 'b', 'c']\n"
     ]
    }
   ],
   "source": [
    "list1 = [\"a\",\"b\",\"c\",\"a\",\"b\",\"c\",'a']\n",
    "b = list(dict.fromkeys(list1))\n",
    "print(b)"
   ]
  },
  {
   "cell_type": "code",
   "execution_count": 14,
   "id": "2309326d",
   "metadata": {},
   "outputs": [
    {
     "name": "stdout",
     "output_type": "stream",
     "text": [
      "['usa', 'canada', 'japan']\n"
     ]
    }
   ],
   "source": [
    "mylist = [\"ind\",\"aus\",\"usa\",\"canada\",'japan','nepal']\n",
    "print(mylist[2:5])\n"
   ]
  },
  {
   "cell_type": "code",
   "execution_count": 15,
   "id": "53c66ad8",
   "metadata": {},
   "outputs": [
    {
     "name": "stdout",
     "output_type": "stream",
     "text": [
      "nepal\n"
     ]
    }
   ],
   "source": [
    "#negative indexes\n",
    "mylist = [\"ind\",\"aus\",\"usa\",\"canada\",'japan','nepal']\n",
    "print(mylist[-1])\n"
   ]
  },
  {
   "cell_type": "code",
   "execution_count": 17,
   "id": "a6af8e44",
   "metadata": {},
   "outputs": [
    {
     "name": "stdout",
     "output_type": "stream",
     "text": [
      "['ind', 'aus', 'usa', 'canada']\n"
     ]
    }
   ],
   "source": [
    "mylist = [\"ind\",\"aus\",\"usa\",\"canada\",'japan','nepal']\n",
    "print(mylist[:4])\n"
   ]
  },
  {
   "cell_type": "code",
   "execution_count": 18,
   "id": "31559360",
   "metadata": {},
   "outputs": [
    {
     "name": "stdout",
     "output_type": "stream",
     "text": [
      "['canada', 'japan', 'nepal']\n"
     ]
    }
   ],
   "source": [
    "mylist = [\"ind\",\"aus\",\"usa\",\"canada\",'japan','nepal']\n",
    "print(mylist[3:])\n"
   ]
  },
  {
   "cell_type": "code",
   "execution_count": 19,
   "id": "f0d9aa40",
   "metadata": {},
   "outputs": [
    {
     "name": "stdout",
     "output_type": "stream",
     "text": [
      "['usa', 'canada', 'japan']\n"
     ]
    }
   ],
   "source": [
    "mylist = [\"ind\",\"aus\",\"usa\",\"canada\",'japan','nepal']\n",
    "print(mylist[-4:-1])"
   ]
  },
  {
   "cell_type": "code",
   "execution_count": 21,
   "id": "86aeec05",
   "metadata": {},
   "outputs": [
    {
     "name": "stdout",
     "output_type": "stream",
     "text": [
      "canada is in mylist\n"
     ]
    }
   ],
   "source": [
    "mylist = [\"ind\",\"aus\",\"usa\",\"canada\",'japan','nepal']\n",
    "if \"canada\" in mylist:\n",
    "    print(\"canada is in mylist\")"
   ]
  },
  {
   "cell_type": "code",
   "execution_count": 22,
   "id": "fce92a0e",
   "metadata": {},
   "outputs": [],
   "source": [
    "mylist = [\"ind\",\"aus\",\"usa\",\"canada\",'japan','nepal']\n",
    "if \"rome\" in mylist:\n",
    "    print(\"rome is in mylist\")"
   ]
  },
  {
   "cell_type": "code",
   "execution_count": 23,
   "id": "5e4606e4",
   "metadata": {},
   "outputs": [
    {
     "name": "stdout",
     "output_type": "stream",
     "text": [
      "['ind', 'aus', 'rome', 'canada', 'japan', 'nepal']\n"
     ]
    }
   ],
   "source": [
    "#intem getting replaced with index no.\n",
    "mylist = [\"ind\",\"aus\",\"usa\",\"canada\",'japan','nepal']\n",
    "mylist[2] = \"rome\"\n",
    "print(mylist)"
   ]
  },
  {
   "cell_type": "code",
   "execution_count": 24,
   "id": "a4d52866",
   "metadata": {},
   "outputs": [
    {
     "name": "stdout",
     "output_type": "stream",
     "text": [
      "['ind', 'rome', 'mi', 'usa', 'canada', 'japan', 'nepal']\n"
     ]
    }
   ],
   "source": [
    "mylist = [\"ind\",\"aus\",\"usa\",\"canada\",'japan','nepal']\n",
    "mylist[1:2] = [\"rome\",'mi',]\n",
    "print(mylist)"
   ]
  },
  {
   "cell_type": "code",
   "execution_count": 25,
   "id": "816decb2",
   "metadata": {},
   "outputs": [
    {
     "name": "stdout",
     "output_type": "stream",
     "text": [
      "['ind', 'aus', 'rome', 'usa', 'canada', 'japan', 'nepal']\n"
     ]
    }
   ],
   "source": [
    "#insert:- insert an item  on specified index \n",
    "mylist = [\"ind\",\"aus\",\"usa\",\"canada\",'japan','nepal']\n",
    "mylist.insert(2,\"rome\")\n",
    "print(mylist)"
   ]
  },
  {
   "cell_type": "code",
   "execution_count": 26,
   "id": "c6af018e",
   "metadata": {},
   "outputs": [
    {
     "name": "stdout",
     "output_type": "stream",
     "text": [
      "['ind', 'aus', 'usa', 'canada', 'japan', 'nepal', 'rome']\n"
     ]
    }
   ],
   "source": [
    "#append:- adds the item at the end of list\n",
    "mylist = [\"ind\",\"aus\",\"usa\",\"canada\",'japan','nepal']\n",
    "mylist.append(\"rome\")\n",
    "print(mylist)"
   ]
  },
  {
   "cell_type": "code",
   "execution_count": 27,
   "id": "75066b8b",
   "metadata": {},
   "outputs": [
    {
     "name": "stdout",
     "output_type": "stream",
     "text": [
      "['python', 'java', 'php', 'c', 'c++', 'dotnet']\n"
     ]
    }
   ],
   "source": [
    "mylist1 = ['python','java','php']\n",
    "mylist2 = [\"c\",\"c++\",\"dotnet\"]\n",
    "mylist1.extend(mylist2)\n",
    "print(mylist1)"
   ]
  },
  {
   "cell_type": "code",
   "execution_count": 31,
   "id": "214a42c0",
   "metadata": {},
   "outputs": [
    {
     "name": "stdout",
     "output_type": "stream",
     "text": [
      "['ind', 'usa', 'canada', 'japan', 'nepal']\n"
     ]
    }
   ],
   "source": [
    "mylist = [\"ind\",\"aus\",\"usa\",\"canada\",'japan','nepal']\n",
    "mylist.remove(\"aus\")\n",
    "print(mylist)"
   ]
  },
  {
   "cell_type": "code",
   "execution_count": 33,
   "id": "bbe29c6a",
   "metadata": {},
   "outputs": [
    {
     "name": "stdout",
     "output_type": "stream",
     "text": [
      "['ind', 'aus', 'usa', 'japan', 'nepal']\n"
     ]
    }
   ],
   "source": [
    "mylist = [\"ind\",\"aus\",\"usa\",\"canada\",'japan','nepal']\n",
    "mylist.pop(3)\n",
    "print(mylist)"
   ]
  },
  {
   "cell_type": "code",
   "execution_count": 34,
   "id": "43db25c3",
   "metadata": {},
   "outputs": [
    {
     "name": "stdout",
     "output_type": "stream",
     "text": [
      "['ind', 'aus', 'usa', 'canada', 'japan']\n"
     ]
    }
   ],
   "source": [
    "mylist = [\"ind\",\"aus\",\"usa\",\"canada\",'japan','nepal']\n",
    "mylist.pop()\n",
    "print(mylist)"
   ]
  },
  {
   "cell_type": "code",
   "execution_count": 36,
   "id": "a651d033",
   "metadata": {},
   "outputs": [
    {
     "ename": "SyntaxError",
     "evalue": "invalid syntax (Temp/ipykernel_8492/1394914131.py, line 2)",
     "output_type": "error",
     "traceback": [
      "\u001b[1;36m  File \u001b[1;32m\"C:\\Users\\UKhanamx\\AppData\\Local\\Temp/ipykernel_8492/1394914131.py\"\u001b[1;36m, line \u001b[1;32m2\u001b[0m\n\u001b[1;33m    del.mylist(1)\u001b[0m\n\u001b[1;37m       ^\u001b[0m\n\u001b[1;31mSyntaxError\u001b[0m\u001b[1;31m:\u001b[0m invalid syntax\n"
     ]
    }
   ],
   "source": [
    "mylist = [\"ind\",\"aus\",\"usa\",\"canada\",'japan','nepal']\n",
    "del.mylist(1)\n",
    "print(mylist)"
   ]
  },
  {
   "cell_type": "code",
   "execution_count": 37,
   "id": "82a10f8c",
   "metadata": {},
   "outputs": [
    {
     "name": "stdout",
     "output_type": "stream",
     "text": [
      "[]\n"
     ]
    }
   ],
   "source": [
    "mylist = [\"ind\",\"aus\",\"usa\",\"canada\",'japan','nepal']\n",
    "mylist.clear()\n",
    "print(mylist)"
   ]
  },
  {
   "cell_type": "code",
   "execution_count": 39,
   "id": "9d946bdc",
   "metadata": {},
   "outputs": [
    {
     "name": "stdout",
     "output_type": "stream",
     "text": [
      "ind\n",
      "aus\n",
      "usa\n",
      "canada\n",
      "japan\n",
      "nepal\n"
     ]
    }
   ],
   "source": [
    "mylist = [\"ind\",\"aus\",\"usa\",\"canada\",'japan','nepal']\n",
    "for x in mylist:\n",
    "    print(x)"
   ]
  },
  {
   "cell_type": "code",
   "execution_count": 40,
   "id": "27607d27",
   "metadata": {},
   "outputs": [
    {
     "name": "stdout",
     "output_type": "stream",
     "text": [
      "ind\n",
      "aus\n",
      "usa\n",
      "canada\n",
      "japan\n",
      "nepal\n"
     ]
    }
   ],
   "source": [
    "mylist = [\"ind\",\"aus\",\"usa\",\"canada\",'japan','nepal']\n",
    "for x in range(len(mylist)):\n",
    "    print(mylist[x])"
   ]
  },
  {
   "cell_type": "code",
   "execution_count": 41,
   "id": "6d7c96d9",
   "metadata": {},
   "outputs": [
    {
     "name": "stdout",
     "output_type": "stream",
     "text": [
      "ind\n",
      "aus\n",
      "usa\n",
      "canada\n",
      "japan\n",
      "nepal\n"
     ]
    }
   ],
   "source": [
    "mylist = [\"ind\",\"aus\",\"usa\",\"canada\",'japan','nepal']\n",
    "i = 0\n",
    "while i < len(mylist):\n",
    "    print(mylist[i])\n",
    "    i = i+1"
   ]
  },
  {
   "cell_type": "code",
   "execution_count": 42,
   "id": "35f1fa85",
   "metadata": {},
   "outputs": [
    {
     "name": "stdout",
     "output_type": "stream",
     "text": [
      "['aus', 'canada', 'ind', 'japan', 'nepal', 'usa']\n"
     ]
    }
   ],
   "source": [
    "mylist = [\"ind\",\"aus\",\"usa\",\"canada\",'japan','nepal']\n",
    "mylist.sort()\n",
    "print(mylist)"
   ]
  },
  {
   "cell_type": "code",
   "execution_count": 43,
   "id": "e2ad7bc4",
   "metadata": {},
   "outputs": [
    {
     "name": "stdout",
     "output_type": "stream",
     "text": [
      "['usa', 'nepal', 'japan', 'ind', 'canada', 'aus']\n"
     ]
    }
   ],
   "source": [
    "mylist = [\"ind\",\"aus\",\"usa\",\"canada\",'japan','nepal']\n",
    "mylist.sort(reverse = True)\n",
    "print(mylist)"
   ]
  },
  {
   "cell_type": "code",
   "execution_count": 47,
   "id": "818a238b",
   "metadata": {},
   "outputs": [
    {
     "name": "stdout",
     "output_type": "stream",
     "text": [
      "[100, 99, 86, 65, 34, 21]\n"
     ]
    }
   ],
   "source": [
    "numlist = [100,34,21,99,65,86]\n",
    "numlist.sort(reverse = True)\n",
    "print(numlist)"
   ]
  },
  {
   "cell_type": "code",
   "execution_count": 48,
   "id": "5d11e3c8",
   "metadata": {},
   "outputs": [
    {
     "name": "stdout",
     "output_type": "stream",
     "text": [
      "['bangalore', 'chennai', 'delhi', 'up']\n"
     ]
    }
   ],
   "source": [
    "alist = [\"chennai\",\"bangalore\",\"delhi\",\"up\"]\n",
    "alist.sort()\n",
    "print(alist)"
   ]
  },
  {
   "cell_type": "code",
   "execution_count": 49,
   "id": "804c2433",
   "metadata": {},
   "outputs": [
    {
     "name": "stdout",
     "output_type": "stream",
     "text": [
      "['Delhi', 'Up', 'bangalore', 'chennai']\n"
     ]
    }
   ],
   "source": [
    "#sort is case sensetive it will first consider Capital thn small letter\n",
    "alist = [\"chennai\",\"bangalore\",\"Delhi\",\"Up\"]\n",
    "alist.sort()\n",
    "print(alist)"
   ]
  },
  {
   "cell_type": "code",
   "execution_count": 50,
   "id": "5b71a3ba",
   "metadata": {},
   "outputs": [
    {
     "name": "stdout",
     "output_type": "stream",
     "text": [
      "['bangalore', 'chennai', 'Delhi', 'Up']\n"
     ]
    }
   ],
   "source": [
    "alist = [\"chennai\",\"bangalore\",\"Delhi\",\"Up\"]\n",
    "alist.sort(key = str.lower)\n",
    "print(alist)"
   ]
  },
  {
   "cell_type": "code",
   "execution_count": 53,
   "id": "1cb2879c",
   "metadata": {},
   "outputs": [
    {
     "name": "stdout",
     "output_type": "stream",
     "text": [
      "['Up', 'Delhi', 'alighar', 'bangalore', 'chennai']\n"
     ]
    }
   ],
   "source": [
    "#reversing the given list\n",
    "alist = [\"chennai\",\"bangalore\",\"alighar\",\"Delhi\",\"Up\"]\n",
    "alist.reverse()\n",
    "print(alist)"
   ]
  },
  {
   "cell_type": "code",
   "execution_count": 54,
   "id": "bf262227",
   "metadata": {},
   "outputs": [
    {
     "name": "stdout",
     "output_type": "stream",
     "text": [
      "['chennai', 'bangalore', 'alighar', 'Delhi', 'Up']\n"
     ]
    }
   ],
   "source": [
    "#copy is built in function\n",
    "alist = [\"chennai\",\"bangalore\",\"alighar\",\"Delhi\",\"Up\"]\n",
    "blist = list(alist)\n",
    "print(blist)\n"
   ]
  },
  {
   "cell_type": "code",
   "execution_count": 55,
   "id": "cbf683d4",
   "metadata": {},
   "outputs": [
    {
     "name": "stdout",
     "output_type": "stream",
     "text": [
      "('umrah', 'jeffry', 'anil', 'sandeep', 'ghousia')\n"
     ]
    }
   ],
   "source": [
    "mytuple = (\"umrah\",\"jeffry\",\"anil\",\"sandeep\",\"ghousia\")\n",
    "print(mytuple)"
   ]
  },
  {
   "cell_type": "code",
   "execution_count": 57,
   "id": "2289d111",
   "metadata": {},
   "outputs": [
    {
     "name": "stdout",
     "output_type": "stream",
     "text": [
      "5\n"
     ]
    }
   ],
   "source": [
    "mytuple = (\"umrah\",\"jeffry\",\"anil\",\"sandeep\",\"ghousia\")\n",
    "print(len(mytuple))"
   ]
  },
  {
   "cell_type": "code",
   "execution_count": 60,
   "id": "3a7ee6d2",
   "metadata": {},
   "outputs": [
    {
     "name": "stdout",
     "output_type": "stream",
     "text": [
      "('umrah', 'jeffry', 'anil', 'sandeep', 'ghousia')\n"
     ]
    }
   ],
   "source": [
    "mytuple = (\"umrah\",\"jeffry\",\"anil\",\"sandeep\",\"ghousia\")\n",
    "mytuple1 = list(mytuple)\n",
    "\n",
    "print(mytuple)"
   ]
  },
  {
   "cell_type": "code",
   "execution_count": 61,
   "id": "c0b59314",
   "metadata": {},
   "outputs": [
    {
     "name": "stdout",
     "output_type": "stream",
     "text": [
      "['umrah', 'jeffry', 'anil', 'sandeep', 'ghousia']\n"
     ]
    }
   ],
   "source": [
    "#convertin tuple to list\n",
    "mytuple = (\"umrah\",\"jeffry\",\"anil\",\"sandeep\",\"ghousia\")\n",
    "mytuple1 = list(mytuple)\n",
    "\n",
    "print(mytuple1)"
   ]
  },
  {
   "cell_type": "code",
   "execution_count": 63,
   "id": "1c34fce4",
   "metadata": {},
   "outputs": [
    {
     "name": "stdout",
     "output_type": "stream",
     "text": [
      "['umrah', 'jeffry', 'anil', 'sandeep', 'ghousia']\n"
     ]
    }
   ],
   "source": [
    "print(mytuple1)"
   ]
  },
  {
   "cell_type": "code",
   "execution_count": 64,
   "id": "025f3a42",
   "metadata": {},
   "outputs": [
    {
     "name": "stdout",
     "output_type": "stream",
     "text": [
      "('umrah', 'jeffry', 'anil', 'sandeep', 'ghousia')\n"
     ]
    }
   ],
   "source": [
    "mytuple1 = tuple(mytuple)\n",
    "print(mytuple)\n"
   ]
  },
  {
   "cell_type": "code",
   "execution_count": 66,
   "id": "0c126d84",
   "metadata": {},
   "outputs": [
    {
     "name": "stdout",
     "output_type": "stream",
     "text": [
      "('umrah', 'jeffry', 'anil', 'sandeep', 'ghousia')\n"
     ]
    }
   ],
   "source": [
    "mytuple1 = tuple(mytuple)\n",
    "print(mytuple1)"
   ]
  },
  {
   "cell_type": "code",
   "execution_count": 68,
   "id": "5267aaa5",
   "metadata": {},
   "outputs": [
    {
     "name": "stdout",
     "output_type": "stream",
     "text": [
      "{'sandeep', 'jeffry', 'anil', 'ghousia', 'umrah'}\n"
     ]
    }
   ],
   "source": [
    "myset = {\"umrah\",\"jeffry\",\"anil\",\"sandeep\",\"ghousia\"}\n",
    "print(myset)"
   ]
  },
  {
   "cell_type": "code",
   "execution_count": 69,
   "id": "72e8f9ad",
   "metadata": {},
   "outputs": [
    {
     "name": "stdout",
     "output_type": "stream",
     "text": [
      "{'sandeep', 'jeffry', 'anil', 'ghousia', 'umrah'}\n"
     ]
    }
   ],
   "source": [
    "myset = {\"sandeep\",\"umrah\",\"jeffry\",\"anil\",\"sandeep\",\"ghousia\"}\n",
    "print(myset)"
   ]
  },
  {
   "cell_type": "code",
   "execution_count": 70,
   "id": "5adea526",
   "metadata": {},
   "outputs": [
    {
     "ename": "AttributeError",
     "evalue": "'set' object has no attribute 'reverse'",
     "output_type": "error",
     "traceback": [
      "\u001b[1;31m---------------------------------------------------------------------------\u001b[0m",
      "\u001b[1;31mAttributeError\u001b[0m                            Traceback (most recent call last)",
      "\u001b[1;32m~\\AppData\\Local\\Temp/ipykernel_8492/2442384699.py\u001b[0m in \u001b[0;36m<module>\u001b[1;34m\u001b[0m\n\u001b[0;32m      1\u001b[0m \u001b[0mmyset\u001b[0m \u001b[1;33m=\u001b[0m \u001b[1;33m{\u001b[0m\u001b[1;34m\"sandeep\"\u001b[0m\u001b[1;33m,\u001b[0m\u001b[1;34m\"umrah\"\u001b[0m\u001b[1;33m,\u001b[0m\u001b[1;34m\"jeffry\"\u001b[0m\u001b[1;33m,\u001b[0m\u001b[1;34m\"anil\"\u001b[0m\u001b[1;33m,\u001b[0m\u001b[1;34m\"sandeep\"\u001b[0m\u001b[1;33m,\u001b[0m\u001b[1;34m\"ghousia\"\u001b[0m\u001b[1;33m}\u001b[0m\u001b[1;33m\u001b[0m\u001b[1;33m\u001b[0m\u001b[0m\n\u001b[1;32m----> 2\u001b[1;33m \u001b[0mmyset\u001b[0m\u001b[1;33m.\u001b[0m\u001b[0mreverse\u001b[0m\u001b[1;33m(\u001b[0m\u001b[1;33m)\u001b[0m\u001b[1;33m\u001b[0m\u001b[1;33m\u001b[0m\u001b[0m\n\u001b[0m\u001b[0;32m      3\u001b[0m \u001b[0mprint\u001b[0m\u001b[1;33m(\u001b[0m\u001b[0mmyset\u001b[0m\u001b[1;33m)\u001b[0m\u001b[1;33m\u001b[0m\u001b[1;33m\u001b[0m\u001b[0m\n",
      "\u001b[1;31mAttributeError\u001b[0m: 'set' object has no attribute 'reverse'"
     ]
    }
   ],
   "source": [
    "\n"
   ]
  },
  {
   "cell_type": "code",
   "execution_count": 71,
   "id": "790055b3",
   "metadata": {},
   "outputs": [
    {
     "name": "stdout",
     "output_type": "stream",
     "text": [
      "{'brand': 'Maruti', 'model1': 'Swift', 'year': 1983}\n"
     ]
    }
   ],
   "source": [
    "#dictionary:- does not allow duplicates\n",
    "mydict = {\n",
    "    \"brand\": \"Maruti\",\n",
    "    \"model1\": \"Swift\",\n",
    "    \"year\": 1983\n",
    "}\n",
    "print(mydict)"
   ]
  },
  {
   "cell_type": "code",
   "execution_count": 72,
   "id": "9879f17f",
   "metadata": {},
   "outputs": [
    {
     "name": "stdout",
     "output_type": "stream",
     "text": [
      "Maruti\n"
     ]
    }
   ],
   "source": [
    "print(mydict[\"brand\"])"
   ]
  },
  {
   "cell_type": "code",
   "execution_count": 73,
   "id": "5fd05835",
   "metadata": {},
   "outputs": [
    {
     "name": "stdout",
     "output_type": "stream",
     "text": [
      "{'brand': 'Maruti', 'model1': 'Swift', 'year': 1965}\n"
     ]
    }
   ],
   "source": [
    "#year will get updated in dictionary\n",
    "mydict = {\n",
    "    \"brand\": \"Maruti\",\n",
    "    \"model1\": \"Swift\",\n",
    "    \"year\": 1983,\n",
    "    \"year\":1965\n",
    "}\n",
    "print(mydict)"
   ]
  },
  {
   "cell_type": "code",
   "execution_count": 74,
   "id": "d29a350a",
   "metadata": {},
   "outputs": [
    {
     "name": "stdout",
     "output_type": "stream",
     "text": [
      "dict_keys(['brand', 'model1', 'year'])\n"
     ]
    }
   ],
   "source": [
    "print(mydict.keys())"
   ]
  },
  {
   "cell_type": "code",
   "execution_count": 75,
   "id": "8d084db7",
   "metadata": {},
   "outputs": [
    {
     "name": "stdout",
     "output_type": "stream",
     "text": [
      "dict_values(['Maruti', 'Swift', 1965])\n"
     ]
    }
   ],
   "source": [
    "print(mydict.values())"
   ]
  },
  {
   "cell_type": "code",
   "execution_count": 77,
   "id": "fd4ef23a",
   "metadata": {},
   "outputs": [
    {
     "name": "stdout",
     "output_type": "stream",
     "text": [
      "{'brand': 'Maruti', 'model1': 'Celerio', 'year': 1965}\n"
     ]
    }
   ],
   "source": [
    "#if we want to change values\n",
    "mydict = {\n",
    "    \"brand\": \"Maruti\",\n",
    "    \"model1\": \"Swift\",\n",
    "    \"year\": 1983,\n",
    "    \"year\":1965\n",
    "}\n",
    "mydict[\"model1\"] = \"Celerio\"\n",
    "print(mydict)"
   ]
  },
  {
   "cell_type": "code",
   "execution_count": 133,
   "id": "90163629",
   "metadata": {},
   "outputs": [
    {
     "ename": "SyntaxError",
     "evalue": "invalid syntax (Temp/ipykernel_8492/3820954904.py, line 3)",
     "output_type": "error",
     "traceback": [
      "\u001b[1;36m  File \u001b[1;32m\"C:\\Users\\UKhanamx\\AppData\\Local\\Temp/ipykernel_8492/3820954904.py\"\u001b[1;36m, line \u001b[1;32m3\u001b[0m\n\u001b[1;33m    \"brand\": \"Maruti\",\u001b[0m\n\u001b[1;37m           ^\u001b[0m\n\u001b[1;31mSyntaxError\u001b[0m\u001b[1;31m:\u001b[0m invalid syntax\n"
     ]
    }
   ],
   "source": [
    "#year will get updated in dictionary\n",
    "mydict = (\n",
    "    \"brand\": \"Maruti\",\n",
    "    \"model1\": \"Swift\",\n",
    "    \"year\": 1983,\n",
    "    \"year\":1965\n",
    "    )\n",
    "mydict.remove(\"brand\")\n",
    "print(mydict)"
   ]
  },
  {
   "cell_type": "code",
   "execution_count": 134,
   "id": "3a86b30b",
   "metadata": {},
   "outputs": [
    {
     "name": "stdout",
     "output_type": "stream",
     "text": [
      "jfr[g9058uihytjknkfrqhudfuriefjkdncv\n",
      "frgfvf\n"
     ]
    }
   ],
   "source": [
    "a =\"\"\"jfr[g9058uihytjknkfrqhudfuriefjkdncv\n",
    "frgfvf\"\"\"\n",
    "print(a)"
   ]
  },
  {
   "cell_type": "code",
   "execution_count": 81,
   "id": "60ff5f42",
   "metadata": {},
   "outputs": [
    {
     "name": "stdout",
     "output_type": "stream",
     "text": [
      "llo\n"
     ]
    }
   ],
   "source": [
    "a = \"Hello, World,\"\n",
    "print(a[2:5])"
   ]
  },
  {
   "cell_type": "code",
   "execution_count": 82,
   "id": "12383ca8",
   "metadata": {},
   "outputs": [
    {
     "name": "stdout",
     "output_type": "stream",
     "text": [
      "llo, \n"
     ]
    }
   ],
   "source": [
    "a = \"Hello, World,\"\n",
    "print(a[2:7])"
   ]
  },
  {
   "cell_type": "code",
   "execution_count": 83,
   "id": "8e63abcc",
   "metadata": {},
   "outputs": [
    {
     "name": "stdout",
     "output_type": "stream",
     "text": [
      "Hello\n"
     ]
    }
   ],
   "source": [
    "a = \"Hello, World,\"\n",
    "print(a[:5])"
   ]
  },
  {
   "cell_type": "code",
   "execution_count": 84,
   "id": "a4bb01a3",
   "metadata": {},
   "outputs": [
    {
     "name": "stdout",
     "output_type": "stream",
     "text": [
      ", World,\n"
     ]
    }
   ],
   "source": [
    "a = \"Hello, World,\"\n",
    "print(a[5:])"
   ]
  },
  {
   "cell_type": "code",
   "execution_count": 85,
   "id": "0c697b82",
   "metadata": {},
   "outputs": [
    {
     "name": "stdout",
     "output_type": "stream",
     "text": [
      "ello, Wo\n"
     ]
    }
   ],
   "source": [
    "a = \"Hello, World,\"\n",
    "print(a[1:9])"
   ]
  },
  {
   "cell_type": "code",
   "execution_count": 86,
   "id": "2b14d281",
   "metadata": {},
   "outputs": [
    {
     "name": "stdout",
     "output_type": "stream",
     "text": [
      "HELLO, WORLD\n"
     ]
    }
   ],
   "source": [
    "a = \"Hello, World\"\n",
    "print(a.upper())"
   ]
  },
  {
   "cell_type": "code",
   "execution_count": 87,
   "id": "8d915d97",
   "metadata": {},
   "outputs": [
    {
     "name": "stdout",
     "output_type": "stream",
     "text": [
      "hello, world\n"
     ]
    }
   ],
   "source": [
    "a = \"Hello, World\"\n",
    "print(a.lower())"
   ]
  },
  {
   "cell_type": "code",
   "execution_count": 90,
   "id": "7e2b7307",
   "metadata": {},
   "outputs": [
    {
     "name": "stdout",
     "output_type": "stream",
     "text": [
      "kello, World\n"
     ]
    }
   ],
   "source": [
    "a = \"Hello, World\"\n",
    "print(a.replace(\"H\",\"k\"))"
   ]
  },
  {
   "cell_type": "code",
   "execution_count": 91,
   "id": "03c3db3a",
   "metadata": {},
   "outputs": [
    {
     "name": "stdout",
     "output_type": "stream",
     "text": [
      "Hello, World\n"
     ]
    }
   ],
   "source": [
    "a = \"Hello, World\"\n",
    "print(a.replace(\"w\",\"k\"))"
   ]
  },
  {
   "cell_type": "code",
   "execution_count": 93,
   "id": "90576e76",
   "metadata": {},
   "outputs": [
    {
     "name": "stdout",
     "output_type": "stream",
     "text": [
      "helloworld\n"
     ]
    }
   ],
   "source": [
    "#cancatenation\n",
    "a = \"hello\"\n",
    "b= \"world\"\n",
    "c=a+b\n",
    "print(c)"
   ]
  },
  {
   "cell_type": "code",
   "execution_count": 94,
   "id": "b049aada",
   "metadata": {},
   "outputs": [
    {
     "name": "stdout",
     "output_type": "stream",
     "text": [
      "hello world\n"
     ]
    }
   ],
   "source": [
    "a = \"hello \"\n",
    "b= \"world\"\n",
    "c=a+b\n",
    "print(c)"
   ]
  },
  {
   "cell_type": "code",
   "execution_count": 97,
   "id": "163c3850",
   "metadata": {},
   "outputs": [
    {
     "data": {
      "text/plain": [
       "'helloworld'"
      ]
     },
     "execution_count": 97,
     "metadata": {},
     "output_type": "execute_result"
    }
   ],
   "source": [
    "a+b"
   ]
  },
  {
   "cell_type": "code",
   "execution_count": 99,
   "id": "d96e06ec",
   "metadata": {},
   "outputs": [
    {
     "name": "stdout",
     "output_type": "stream",
     "text": [
      "{'model1': 'Swift', 'year': 1965}\n"
     ]
    }
   ],
   "source": [
    "mydict = {\n",
    "    \"brand\": \"Maruti\",\n",
    "    \"model1\": \"Swift\",\n",
    "    \"year\": 1983,\n",
    "    \"year\":1965\n",
    "}\n",
    "mydict.pop(\"brand\")\n",
    "print(mydict)"
   ]
  },
  {
   "cell_type": "code",
   "execution_count": 100,
   "id": "67691138",
   "metadata": {},
   "outputs": [
    {
     "name": "stdout",
     "output_type": "stream",
     "text": [
      "{'year': 1965}\n"
     ]
    }
   ],
   "source": [
    "mydict.pop(\"model1\")\n",
    "print(mydict)"
   ]
  },
  {
   "cell_type": "code",
   "execution_count": 101,
   "id": "2e9d2b69",
   "metadata": {},
   "outputs": [],
   "source": [
    "c=a+b\n"
   ]
  },
  {
   "cell_type": "code",
   "execution_count": 104,
   "id": "d38cc036",
   "metadata": {},
   "outputs": [
    {
     "name": "stdout",
     "output_type": "stream",
     "text": [
      "6\n"
     ]
    }
   ],
   "source": [
    "#Arithmatic Operator\n",
    "x = 4\n",
    "y = 2\n",
    "z = x + y\n",
    "print(z)"
   ]
  },
  {
   "cell_type": "code",
   "execution_count": 105,
   "id": "0ca323a2",
   "metadata": {},
   "outputs": [
    {
     "name": "stdout",
     "output_type": "stream",
     "text": [
      "-2\n"
     ]
    }
   ],
   "source": [
    "z=y-x\n",
    "print(z)"
   ]
  },
  {
   "cell_type": "code",
   "execution_count": 106,
   "id": "148b934a",
   "metadata": {},
   "outputs": [
    {
     "name": "stdout",
     "output_type": "stream",
     "text": [
      "8\n"
     ]
    }
   ],
   "source": [
    "z=x*y\n",
    "print(z)"
   ]
  },
  {
   "cell_type": "code",
   "execution_count": 107,
   "id": "4f7a97f8",
   "metadata": {},
   "outputs": [
    {
     "name": "stdout",
     "output_type": "stream",
     "text": [
      "2\n"
     ]
    }
   ],
   "source": [
    "z=x//y\n",
    "print(z\n",
    "     )"
   ]
  },
  {
   "cell_type": "code",
   "execution_count": 108,
   "id": "f0167419",
   "metadata": {},
   "outputs": [
    {
     "name": "stdout",
     "output_type": "stream",
     "text": [
      "2.0\n"
     ]
    }
   ],
   "source": [
    "z=x/y\n",
    "print(z\n",
    "     )"
   ]
  },
  {
   "cell_type": "code",
   "execution_count": 109,
   "id": "40cdb77e",
   "metadata": {},
   "outputs": [
    {
     "name": "stdout",
     "output_type": "stream",
     "text": [
      "16\n"
     ]
    }
   ],
   "source": [
    "w=x**y\n",
    "print(w)"
   ]
  },
  {
   "cell_type": "code",
   "execution_count": 110,
   "id": "af439a9a",
   "metadata": {},
   "outputs": [
    {
     "name": "stdout",
     "output_type": "stream",
     "text": [
      "6\n"
     ]
    }
   ],
   "source": [
    "y+=4\n",
    "print(y)"
   ]
  },
  {
   "cell_type": "code",
   "execution_count": 112,
   "id": "2a6b18d4",
   "metadata": {},
   "outputs": [
    {
     "name": "stdout",
     "output_type": "stream",
     "text": [
      "2\n"
     ]
    }
   ],
   "source": [
    "z=x^y\n",
    "print(z)"
   ]
  },
  {
   "cell_type": "code",
   "execution_count": 114,
   "id": "f5580188",
   "metadata": {},
   "outputs": [
    {
     "name": "stdout",
     "output_type": "stream",
     "text": [
      "2\n"
     ]
    }
   ],
   "source": [
    "u=10\n",
    "u&=3\n",
    "print(u)"
   ]
  },
  {
   "cell_type": "code",
   "execution_count": 117,
   "id": "9ecd85b1",
   "metadata": {},
   "outputs": [
    {
     "data": {
      "text/plain": [
       "6"
      ]
     },
     "execution_count": 117,
     "metadata": {},
     "output_type": "execute_result"
    }
   ],
   "source": [
    "mylist = [\"ind\",\"aus\",\"usa\",\"canada\",'japan','nepal']\n",
    "len(mylist)\n"
   ]
  },
  {
   "cell_type": "code",
   "execution_count": 119,
   "id": "3077f576",
   "metadata": {},
   "outputs": [
    {
     "data": {
      "text/plain": [
       "4"
      ]
     },
     "execution_count": 119,
     "metadata": {},
     "output_type": "execute_result"
    }
   ],
   "source": [
    "mydict = {\n",
    "    \"brand\": \"Maruti\",\n",
    "    \"model1\": \"Swift\",\n",
    "    \"year\": 1983,\n",
    "    \"years\":6\n",
    "}\n",
    "len(mydict)\n"
   ]
  },
  {
   "cell_type": "code",
   "execution_count": 120,
   "id": "21aaf3f5",
   "metadata": {},
   "outputs": [
    {
     "name": "stdout",
     "output_type": "stream",
     "text": [
      "{'sandeep', 'jeffry', 'anil', 'ghousia'}\n"
     ]
    }
   ],
   "source": [
    "myset = {\"sandeep\",\"umrah\",\"jeffry\",\"anil\",\"sandeep\",\"ghousia\"}\n",
    "myset.remove(\"umrah\")\n",
    "print(myset)"
   ]
  },
  {
   "cell_type": "code",
   "execution_count": 131,
   "id": "04eb022a",
   "metadata": {},
   "outputs": [
    {
     "ename": "AttributeError",
     "evalue": "'dict' object has no attribute 'push'",
     "output_type": "error",
     "traceback": [
      "\u001b[1;31m---------------------------------------------------------------------------\u001b[0m",
      "\u001b[1;31mAttributeError\u001b[0m                            Traceback (most recent call last)",
      "\u001b[1;32m~\\AppData\\Local\\Temp/ipykernel_8492/624927471.py\u001b[0m in \u001b[0;36m<module>\u001b[1;34m\u001b[0m\n\u001b[0;32m      5\u001b[0m     \u001b[1;34m\"year\"\u001b[0m\u001b[1;33m:\u001b[0m\u001b[1;36m1965\u001b[0m\u001b[1;33m\u001b[0m\u001b[1;33m\u001b[0m\u001b[0m\n\u001b[0;32m      6\u001b[0m }\n\u001b[1;32m----> 7\u001b[1;33m \u001b[0mmydict\u001b[0m\u001b[1;33m.\u001b[0m\u001b[0mpush\u001b[0m\u001b[1;33m(\u001b[0m\u001b[1;34m\"work\"\u001b[0m\u001b[1;33m)\u001b[0m\u001b[1;33m\u001b[0m\u001b[1;33m\u001b[0m\u001b[0m\n\u001b[0m\u001b[0;32m      8\u001b[0m \u001b[0mprint\u001b[0m\u001b[1;33m(\u001b[0m\u001b[0mmydict\u001b[0m\u001b[1;33m)\u001b[0m\u001b[1;33m\u001b[0m\u001b[1;33m\u001b[0m\u001b[0m\n",
      "\u001b[1;31mAttributeError\u001b[0m: 'dict' object has no attribute 'push'"
     ]
    }
   ],
   "source": [
    "mydict = {\n",
    "    \"brand\": \"Maruti\",\n",
    "    \"model1\": \"Swift\",\n",
    "    \"year\": 1983,\n",
    "    \"year\":1965\n",
    "}\n",
    "mydict.push(\"work\")\n",
    "print(mydict)"
   ]
  },
  {
   "cell_type": "code",
   "execution_count": 123,
   "id": "49931b93",
   "metadata": {},
   "outputs": [
    {
     "name": "stdout",
     "output_type": "stream",
     "text": [
      "{'Up', 'alighar', 'Delhi', 'chennai', 'bangalore'}\n"
     ]
    }
   ],
   "source": [
    "alist = {\"chennai\",\n",
    "         \"bangalore\",\n",
    "         \"alighar\",\"Delhi\",\"Up\"}\n",
    "print(alist)"
   ]
  },
  {
   "cell_type": "code",
   "execution_count": 126,
   "id": "a4b43ecc",
   "metadata": {},
   "outputs": [
    {
     "data": {
      "text/plain": [
       "5"
      ]
     },
     "execution_count": 126,
     "metadata": {},
     "output_type": "execute_result"
    }
   ],
   "source": [
    "dict = {\"chennai\",\n",
    "         \"bangalore\",\n",
    "         \"alighar\",\"Delhi\",\"Up\"}\n",
    "len(dict)"
   ]
  },
  {
   "cell_type": "code",
   "execution_count": 128,
   "id": "b1f0474e",
   "metadata": {},
   "outputs": [
    {
     "ename": "AttributeError",
     "evalue": "'set' object has no attribute 'reverse'",
     "output_type": "error",
     "traceback": [
      "\u001b[1;31m---------------------------------------------------------------------------\u001b[0m",
      "\u001b[1;31mAttributeError\u001b[0m                            Traceback (most recent call last)",
      "\u001b[1;32m~\\AppData\\Local\\Temp/ipykernel_8492/2665730321.py\u001b[0m in \u001b[0;36m<module>\u001b[1;34m\u001b[0m\n\u001b[0;32m      2\u001b[0m          \u001b[1;34m\"bangalore\"\u001b[0m\u001b[1;33m,\u001b[0m\u001b[1;33m\u001b[0m\u001b[1;33m\u001b[0m\u001b[0m\n\u001b[0;32m      3\u001b[0m          \"alighar\",\"Delhi\",\"Up\"}\n\u001b[1;32m----> 4\u001b[1;33m \u001b[0mdict\u001b[0m\u001b[1;33m.\u001b[0m\u001b[0mreverse\u001b[0m\u001b[1;33m(\u001b[0m\u001b[1;33m)\u001b[0m\u001b[1;33m\u001b[0m\u001b[1;33m\u001b[0m\u001b[0m\n\u001b[0m",
      "\u001b[1;31mAttributeError\u001b[0m: 'set' object has no attribute 'reverse'"
     ]
    }
   ],
   "source": [
    "dict = {\"chennai\",\n",
    "         \"bangalore\",\n",
    "         \"alighar\",\"Delhi\",\"Up\"}\n",
    "dict.reverse()"
   ]
  },
  {
   "cell_type": "code",
   "execution_count": 130,
   "id": "f4658b84",
   "metadata": {},
   "outputs": [
    {
     "ename": "AttributeError",
     "evalue": "'set' object has no attribute 'sort'",
     "output_type": "error",
     "traceback": [
      "\u001b[1;31m---------------------------------------------------------------------------\u001b[0m",
      "\u001b[1;31mAttributeError\u001b[0m                            Traceback (most recent call last)",
      "\u001b[1;32m~\\AppData\\Local\\Temp/ipykernel_8492/576928741.py\u001b[0m in \u001b[0;36m<module>\u001b[1;34m\u001b[0m\n\u001b[0;32m      2\u001b[0m          \u001b[1;34m\"bangalore\"\u001b[0m\u001b[1;33m,\u001b[0m\u001b[1;33m\u001b[0m\u001b[1;33m\u001b[0m\u001b[0m\n\u001b[0;32m      3\u001b[0m          \"alighar\",\"Delhi\",\"Up\"}\n\u001b[1;32m----> 4\u001b[1;33m \u001b[0mdict\u001b[0m\u001b[1;33m.\u001b[0m\u001b[0msort\u001b[0m\u001b[1;33m(\u001b[0m\u001b[0mreverse\u001b[0m \u001b[1;33m=\u001b[0m \u001b[1;32mTrue\u001b[0m\u001b[1;33m)\u001b[0m\u001b[1;33m\u001b[0m\u001b[1;33m\u001b[0m\u001b[0m\n\u001b[0m\u001b[0;32m      5\u001b[0m \u001b[0mprint\u001b[0m\u001b[1;33m(\u001b[0m\u001b[0mdict\u001b[0m\u001b[1;33m)\u001b[0m\u001b[1;33m\u001b[0m\u001b[1;33m\u001b[0m\u001b[0m\n",
      "\u001b[1;31mAttributeError\u001b[0m: 'set' object has no attribute 'sort'"
     ]
    }
   ],
   "source": [
    "dict = {\"chennai\",\n",
    "         \"bangalore\",\n",
    "         \"alighar\",\"Delhi\",\"Up\"}\n",
    "dict.sort(reverse = True)\n",
    "print(dict)"
   ]
  },
  {
   "cell_type": "code",
   "execution_count": 135,
   "id": "1baf275e",
   "metadata": {},
   "outputs": [
    {
     "ename": "NameError",
     "evalue": "name 'reverse' is not defined",
     "output_type": "error",
     "traceback": [
      "\u001b[1;31m---------------------------------------------------------------------------\u001b[0m",
      "\u001b[1;31mNameError\u001b[0m                                 Traceback (most recent call last)",
      "\u001b[1;32m~\\AppData\\Local\\Temp/ipykernel_8492/2012113272.py\u001b[0m in \u001b[0;36m<module>\u001b[1;34m\u001b[0m\n\u001b[0;32m      5\u001b[0m     \u001b[1;34m\"years\"\u001b[0m\u001b[1;33m:\u001b[0m\u001b[1;36m6\u001b[0m\u001b[1;33m\u001b[0m\u001b[1;33m\u001b[0m\u001b[0m\n\u001b[0;32m      6\u001b[0m }\n\u001b[1;32m----> 7\u001b[1;33m \u001b[0mreverse\u001b[0m\u001b[1;33m(\u001b[0m\u001b[0mmydict\u001b[0m\u001b[1;33m)\u001b[0m\u001b[1;33m\u001b[0m\u001b[1;33m\u001b[0m\u001b[0m\n\u001b[0m",
      "\u001b[1;31mNameError\u001b[0m: name 'reverse' is not defined"
     ]
    }
   ],
   "source": [
    "mydict = {\n",
    "    \"brand\": \"Maruti\",\n",
    "    \"model1\": \"Swift\",\n",
    "    \"year\": 1983,\n",
    "    \"years\":6\n",
    "}\n",
    "reverse(mydict)"
   ]
  },
  {
   "cell_type": "code",
   "execution_count": 136,
   "id": "f451e13e",
   "metadata": {},
   "outputs": [
    {
     "ename": "SyntaxError",
     "evalue": "invalid syntax (Temp/ipykernel_8492/343061468.py, line 6)",
     "output_type": "error",
     "traceback": [
      "\u001b[1;36m  File \u001b[1;32m\"C:\\Users\\UKhanamx\\AppData\\Local\\Temp/ipykernel_8492/343061468.py\"\u001b[1;36m, line \u001b[1;32m6\u001b[0m\n\u001b[1;33m    }\u001b[0m\n\u001b[1;37m    ^\u001b[0m\n\u001b[1;31mSyntaxError\u001b[0m\u001b[1;31m:\u001b[0m invalid syntax\n"
     ]
    }
   ],
   "source": [
    "mydict = {\n",
    "    \"school\": \"MAS\",\n",
    "    \n",
    "    \"YearOfEstablish\": 1980,\n",
    "    \"years\":60+\n",
    "}\n",
    "reverse(mydict)"
   ]
  },
  {
   "cell_type": "code",
   "execution_count": 138,
   "id": "de18ceca",
   "metadata": {},
   "outputs": [
    {
     "data": {
      "text/plain": [
       "3"
      ]
     },
     "execution_count": 138,
     "metadata": {},
     "output_type": "execute_result"
    }
   ],
   "source": [
    "mydict = {\n",
    "    \"school\": \"MAS\",\n",
    "    \n",
    "    \"YearOfEstablish\": 1980,\n",
    "    \"years\":60\n",
    "}\n",
    "len(mydict)"
   ]
  },
  {
   "cell_type": "code",
   "execution_count": 140,
   "id": "f75dbecb",
   "metadata": {},
   "outputs": [
    {
     "data": {
      "text/plain": [
       "{'school': 'MAS', 'YearOfEstablish': 1980, 'years': 60}"
      ]
     },
     "execution_count": 140,
     "metadata": {},
     "output_type": "execute_result"
    }
   ],
   "source": [
    "mydict = {\n",
    "    \"school\": \"MAS\",\n",
    "    \n",
    "    \"YearOfEstablish\": 1980,\n",
    "    \"years\":60\n",
    "}\n",
    "\n",
    "\n",
    "mydict"
   ]
  },
  {
   "cell_type": "code",
   "execution_count": 142,
   "id": "9adc8c45",
   "metadata": {},
   "outputs": [
    {
     "name": "stdout",
     "output_type": "stream",
     "text": [
      "{'school': 'MAS', 'YearOfEstablish': 1980, 'years': 60}\n"
     ]
    }
   ],
   "source": [
    "mydict = {\n",
    "    \"school\": \"MAS\",\n",
    "    \n",
    "    \"YearOfEstablish\": 1980,\n",
    "    \"years\":60\n",
    "}\n",
    "\n",
    "\n",
    "print(mydict)"
   ]
  },
  {
   "cell_type": "code",
   "execution_count": 143,
   "id": "19d41922",
   "metadata": {},
   "outputs": [
    {
     "name": "stdout",
     "output_type": "stream",
     "text": [
      "{'school': 'MAS', 'YearOfEstablish': 1980, 'years': 60}\n"
     ]
    }
   ],
   "source": [
    "mydict = {\n",
    "    \"school\": \"MAS\",\n",
    "    \n",
    "    \"YearOfEstablish\": 1980,\n",
    "    \"years\":60\n",
    "}\n",
    "\n",
    "\n",
    "print(mydict)"
   ]
  },
  {
   "cell_type": "code",
   "execution_count": 148,
   "id": "02c3934c",
   "metadata": {},
   "outputs": [
    {
     "name": "stdout",
     "output_type": "stream",
     "text": [
      "{'school': 'holy mission', 'YearOfEstablish': 1980, 'years': 60}\n"
     ]
    }
   ],
   "source": [
    "#for assigning any value use ''='' and[]\n",
    "mydict = {\n",
    "    \"school\": \"MAS\",\n",
    "    \n",
    "    \"YearOfEstablish\": 1980,\n",
    "    \"years\":60\n",
    "}\n",
    "mydict[\"school\"]=\"holy mission\"\n",
    "\n",
    "\n",
    "print(mydict)"
   ]
  },
  {
   "cell_type": "code",
   "execution_count": 150,
   "id": "2f9a4127",
   "metadata": {},
   "outputs": [
    {
     "name": "stdout",
     "output_type": "stream",
     "text": [
      "True\n"
     ]
    }
   ],
   "source": [
    "fruit=(\"apple\",\"mango\",\"grapes\")\n",
    "print(\"apple\"  in fruit)"
   ]
  },
  {
   "cell_type": "code",
   "execution_count": 151,
   "id": "70703840",
   "metadata": {},
   "outputs": [
    {
     "name": "stdout",
     "output_type": "stream",
     "text": [
      "True\n",
      "False\n",
      "True\n"
     ]
    }
   ],
   "source": [
    "fruit=(\"apple\",\"mango\",\"grapes\")\n",
    "print(\"mango\"  in fruit)\n",
    "print(\"apple\"  not in fruit)\n",
    "print(\"grapes\"  in fruit)"
   ]
  },
  {
   "cell_type": "code",
   "execution_count": 153,
   "id": "679e8475",
   "metadata": {},
   "outputs": [
    {
     "ename": "SyntaxError",
     "evalue": "invalid syntax (Temp/ipykernel_8492/4030176777.py, line 2)",
     "output_type": "error",
     "traceback": [
      "\u001b[1;36m  File \u001b[1;32m\"C:\\Users\\UKhanamx\\AppData\\Local\\Temp/ipykernel_8492/4030176777.py\"\u001b[1;36m, line \u001b[1;32m2\u001b[0m\n\u001b[1;33m    print(mango is in fruit)\u001b[0m\n\u001b[1;37m                   ^\u001b[0m\n\u001b[1;31mSyntaxError\u001b[0m\u001b[1;31m:\u001b[0m invalid syntax\n"
     ]
    }
   ],
   "source": [
    "fruit=(\"apple\",\"mango\",\"grapes\")\n",
    "print(mango is in fruit)"
   ]
  },
  {
   "cell_type": "code",
   "execution_count": 154,
   "id": "3534f501",
   "metadata": {},
   "outputs": [
    {
     "name": "stdout",
     "output_type": "stream",
     "text": [
      "{1, 2, 3, 5, 6}\n",
      "{2}\n"
     ]
    }
   ],
   "source": [
    "set1={1,2,3}\n",
    "s2={2,5,6}\n",
    "print(set1|s2)\n",
    "print(set1&s2)\n",
    "\n"
   ]
  },
  {
   "cell_type": "code",
   "execution_count": 156,
   "id": "70156469",
   "metadata": {},
   "outputs": [
    {
     "ename": "SyntaxError",
     "evalue": "invalid syntax (Temp/ipykernel_8492/2040444772.py, line 1)",
     "output_type": "error",
     "traceback": [
      "\u001b[1;36m  File \u001b[1;32m\"C:\\Users\\UKhanamx\\AppData\\Local\\Temp/ipykernel_8492/2040444772.py\"\u001b[1;36m, line \u001b[1;32m1\u001b[0m\n\u001b[1;33m    set1.update{['lion']}\u001b[0m\n\u001b[1;37m               ^\u001b[0m\n\u001b[1;31mSyntaxError\u001b[0m\u001b[1;31m:\u001b[0m invalid syntax\n"
     ]
    }
   ],
   "source": [
    "set1.update{['lion']}\n",
    "print(set1)"
   ]
  },
  {
   "cell_type": "code",
   "execution_count": 2,
   "id": "a006ae01",
   "metadata": {},
   "outputs": [],
   "source": [
    "a=33\n",
    "b=31\n",
    "if b > a:\n",
    "    print(\"b is greater than a\")\n",
    "    "
   ]
  },
  {
   "cell_type": "code",
   "execution_count": 1,
   "id": "eea4e75f",
   "metadata": {},
   "outputs": [],
   "source": [
    "a = 33\n",
    "b = 31\n",
    "if b > a:\n",
    "    print(\"b is greater than a\")\n",
    "elif a == b:\n",
    "    print(\"a and b are equal\")"
   ]
  },
  {
   "cell_type": "code",
   "execution_count": null,
   "id": "1b4531d8",
   "metadata": {},
   "outputs": [],
   "source": []
  }
 ],
 "metadata": {
  "kernelspec": {
   "display_name": "Python 3 (ipykernel)",
   "language": "python",
   "name": "python3"
  },
  "language_info": {
   "codemirror_mode": {
    "name": "ipython",
    "version": 3
   },
   "file_extension": ".py",
   "mimetype": "text/x-python",
   "name": "python",
   "nbconvert_exporter": "python",
   "pygments_lexer": "ipython3",
   "version": "3.9.7"
  }
 },
 "nbformat": 4,
 "nbformat_minor": 5
}
