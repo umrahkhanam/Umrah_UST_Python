{
 "cells": [
  {
   "cell_type": "code",
   "execution_count": null,
   "id": "2d735c9c",
   "metadata": {},
   "outputs": [],
   "source": [
    "a ='''hello,\n",
    "my name \n",
    "is aaaa'''\n",
    "b= 47\n",
    "c=67.5\n",
    "print (a, b, c)"
   ]
  },
  {
   "cell_type": "code",
   "execution_count": null,
   "id": "6072f481",
   "metadata": {},
   "outputs": [],
   "source": [
    "a ='''hello,\n",
    "my name \n",
    "is aaaa'''\n",
    "b= 47\n",
    "c=67.5\n",
    "print ( b, c,a)"
   ]
  },
  {
   "cell_type": "code",
   "execution_count": null,
   "id": "62c2426f",
   "metadata": {},
   "outputs": [],
   "source": [
    "a ='''hello,\n",
    "my name \n",
    "is aaaa'''\n",
    "b= 47\n",
    "c=67.5\n",
    "print ( b)\n",
    "print ( a)\n",
    "print ( c)"
   ]
  },
  {
   "cell_type": "code",
   "execution_count": null,
   "id": "fb43787f",
   "metadata": {},
   "outputs": [],
   "source": [
    "a ='''hello,\n",
    "my name \n",
    "is aaaa'''\n",
    "b= 47\n",
    "c=67.5\n",
    "print (type(b))\n",
    "print ( type(a))\n",
    "print ( type(c))"
   ]
  },
  {
   "cell_type": "code",
   "execution_count": null,
   "id": "934f67bf",
   "metadata": {},
   "outputs": [],
   "source": [
    "d = True\n",
    "print(d)"
   ]
  },
  {
   "cell_type": "code",
   "execution_count": null,
   "id": "91e66634",
   "metadata": {},
   "outputs": [],
   "source": [
    "d = True\n",
    "print(type(d))"
   ]
  },
  {
   "cell_type": "code",
   "execution_count": null,
   "id": "68229b1a",
   "metadata": {},
   "outputs": [],
   "source": [
    "import socket            \n",
    "s = socket.socket()         \n",
    "host = socket.gethostname() \n",
    "port = 12345                \n",
    "s.bind((host, port))        \n",
    "\n",
    "s.listen(5)                 \n",
    "while True:\n",
    "    c, addr = s.accept() \n",
    "    print 'Got connection from', addr\n",
    "    c.send('Thank you for connecting')\n",
    "    c.close()"
   ]
  },
  {
   "cell_type": "code",
   "execution_count": null,
   "id": "947ec05d",
   "metadata": {},
   "outputs": [],
   "source": [
    "bool1=True\n",
    "bool2=False\n",
    "print(\"the value of bool1 and bool2 is\",(bool1 and bool2))\n",
    "print(\"the value of bool1 or bool2 is\",(bool1 or bool2))\n",
    "print(\"the value of not bool1 is\",(not bool1))"
   ]
  },
  {
   "cell_type": "code",
   "execution_count": null,
   "id": "2e2b8cfb",
   "metadata": {},
   "outputs": [],
   "source": [
    "#Symbols are not used in and, or \n",
    "bool1=True\n",
    "bool2=False\n",
    "print(\"the value of bool1 and bool2 is\",(bool1 && bool2))\n",
    "print(\"the value of bool1 or bool2 is\",(bool1 || bool2))\n",
    "print(\"the value of not bool1 is\",(not bool1))"
   ]
  },
  {
   "cell_type": "code",
   "execution_count": 3,
   "id": "7949dd03",
   "metadata": {},
   "outputs": [
    {
     "name": "stdout",
     "output_type": "stream",
     "text": [
      "Note: you may need to restart the kernel to use updated packages.\n"
     ]
    },
    {
     "name": "stderr",
     "output_type": "stream",
     "text": [
      "WARNING: Retrying (Retry(total=4, connect=None, read=None, redirect=None, status=None)) after connection broken by 'ConnectTimeoutError(<pip._vendor.urllib3.connection.HTTPSConnection object at 0x0000019D923F8280>, 'Connection to pypi.org timed out. (connect timeout=15)')': /simple/mysql-connector-python/\n",
      "WARNING: Retrying (Retry(total=3, connect=None, read=None, redirect=None, status=None)) after connection broken by 'ConnectTimeoutError(<pip._vendor.urllib3.connection.HTTPSConnection object at 0x0000019D923F8040>, 'Connection to pypi.org timed out. (connect timeout=15)')': /simple/mysql-connector-python/\n",
      "WARNING: Retrying (Retry(total=2, connect=None, read=None, redirect=None, status=None)) after connection broken by 'ConnectTimeoutError(<pip._vendor.urllib3.connection.HTTPSConnection object at 0x0000019D923F88E0>, 'Connection to pypi.org timed out. (connect timeout=15)')': /simple/mysql-connector-python/\n",
      "WARNING: Retrying (Retry(total=1, connect=None, read=None, redirect=None, status=None)) after connection broken by 'ConnectTimeoutError(<pip._vendor.urllib3.connection.HTTPSConnection object at 0x0000019D923F8A60>, 'Connection to pypi.org timed out. (connect timeout=15)')': /simple/mysql-connector-python/\n",
      "WARNING: Retrying (Retry(total=0, connect=None, read=None, redirect=None, status=None)) after connection broken by 'ConnectTimeoutError(<pip._vendor.urllib3.connection.HTTPSConnection object at 0x0000019D923F8BE0>, 'Connection to pypi.org timed out. (connect timeout=15)')': /simple/mysql-connector-python/\n",
      "ERROR: Could not find a version that satisfies the requirement mysql-connector-python (from versions: none)\n",
      "ERROR: No matching distribution found for mysql-connector-python\n"
     ]
    }
   ],
   "source": [
    "pip install mysql-connector-python"
   ]
  },
  {
   "cell_type": "code",
   "execution_count": null,
   "id": "2aec1ab9",
   "metadata": {},
   "outputs": [],
   "source": [
    "import mysql.connector\n"
   ]
  },
  {
   "cell_type": "code",
   "execution_count": 2,
   "id": "af9b2baf",
   "metadata": {},
   "outputs": [
    {
     "ename": "OperationalError",
     "evalue": "('08001', '[08001] [Microsoft][ODBC SQL Server Driver][DBNETLIB]SQL Server does not exist or access denied. (17) (SQLDriverConnect); [08001] [Microsoft][ODBC SQL Server Driver][DBNETLIB]ConnectionOpen (Connect()). (53)')",
     "output_type": "error",
     "traceback": [
      "\u001b[1;31m---------------------------------------------------------------------------\u001b[0m",
      "\u001b[1;31mOperationalError\u001b[0m                          Traceback (most recent call last)",
      "\u001b[1;32m~\\AppData\\Local\\Temp/ipykernel_14344/2188094019.py\u001b[0m in \u001b[0;36m<module>\u001b[1;34m\u001b[0m\n\u001b[0;32m      1\u001b[0m \u001b[1;32mimport\u001b[0m \u001b[0mpyodbc\u001b[0m\u001b[1;33m\u001b[0m\u001b[1;33m\u001b[0m\u001b[0m\n\u001b[0;32m      2\u001b[0m \u001b[1;33m\u001b[0m\u001b[0m\n\u001b[1;32m----> 3\u001b[1;33m conn = pyodbc.connect('Driver={SQL Server};'\n\u001b[0m\u001b[0;32m      4\u001b[0m                       \u001b[1;34m'Server=server_name;'\u001b[0m\u001b[1;33m\u001b[0m\u001b[1;33m\u001b[0m\u001b[0m\n\u001b[0;32m      5\u001b[0m                       \u001b[1;34m'Database=database_name;'\u001b[0m\u001b[1;33m\u001b[0m\u001b[1;33m\u001b[0m\u001b[0m\n",
      "\u001b[1;31mOperationalError\u001b[0m: ('08001', '[08001] [Microsoft][ODBC SQL Server Driver][DBNETLIB]SQL Server does not exist or access denied. (17) (SQLDriverConnect); [08001] [Microsoft][ODBC SQL Server Driver][DBNETLIB]ConnectionOpen (Connect()). (53)')"
     ]
    }
   ],
   "source": [
    "\n",
    "import pyodbc \n",
    "\n",
    "conn = pyodbc.connect('Driver={SQL Server};'\n",
    "                      'Server=server_name;'\n",
    "                      'Database=database_name;'\n",
    "                      'Trusted_Connection=yes;')\n",
    "\n",
    "cursor = conn.cursor()\n",
    "cursor.execute('SELECT * FROM table_name')\n",
    "\n",
    "for i in cursor:\n",
    "    print(i)"
   ]
  },
  {
   "cell_type": "code",
   "execution_count": null,
   "id": "c5eea8a8",
   "metadata": {},
   "outputs": [],
   "source": []
  }
 ],
 "metadata": {
  "kernelspec": {
   "display_name": "Python 3 (ipykernel)",
   "language": "python",
   "name": "python3"
  },
  "language_info": {
   "codemirror_mode": {
    "name": "ipython",
    "version": 3
   },
   "file_extension": ".py",
   "mimetype": "text/x-python",
   "name": "python",
   "nbconvert_exporter": "python",
   "pygments_lexer": "ipython3",
   "version": "3.9.7"
  }
 },
 "nbformat": 4,
 "nbformat_minor": 5
}
