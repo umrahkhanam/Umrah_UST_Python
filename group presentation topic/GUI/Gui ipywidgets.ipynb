{
 "cells": [
  {
   "cell_type": "markdown",
   "id": "5e606626",
   "metadata": {},
   "source": [
    "# GUI\n",
    "# widgets\n"
   ]
  },
  {
   "cell_type": "code",
   "execution_count": null,
   "id": "af6bdfbf",
   "metadata": {},
   "outputs": [],
   "source": [
    "# to create a widget we need import ipywidgets library\n",
    "import ipywidgets\n"
   ]
  },
  {
   "cell_type": "code",
   "execution_count": null,
   "id": "09d08572",
   "metadata": {},
   "outputs": [],
   "source": [
    "# creating widget with interact function\n",
    "from ipywidgets import interact"
   ]
  },
  {
   "cell_type": "code",
   "execution_count": 2,
   "id": "b36e88b9",
   "metadata": {},
   "outputs": [
    {
     "data": {
      "application/vnd.jupyter.widget-view+json": {
       "model_id": "d026c88f807f458886644d030e4ba036",
       "version_major": 2,
       "version_minor": 0
      },
      "text/plain": [
       "interactive(children=(IntSlider(value=200, description='x', max=600, min=-200), Output()), _dom_classes=('widg…"
      ]
     },
     "metadata": {},
     "output_type": "display_data"
    },
    {
     "data": {
      "application/vnd.jupyter.widget-view+json": {
       "model_id": "d8cdcf89d8244296a532d7446742af5b",
       "version_major": 2,
       "version_minor": 0
      },
      "text/plain": [
       "interactive(children=(FloatSlider(value=10.0, description='x', max=30.0, min=-10.0), Output()), _dom_classes=(…"
      ]
     },
     "metadata": {},
     "output_type": "display_data"
    },
    {
     "data": {
      "application/vnd.jupyter.widget-view+json": {
       "model_id": "1a4be66ee85d4cb683162abd5a9989cd",
       "version_major": 2,
       "version_minor": 0
      },
      "text/plain": [
       "interactive(children=(IntSlider(value=25, description='x', max=50, step=5), Output()), _dom_classes=('widget-i…"
      ]
     },
     "metadata": {},
     "output_type": "display_data"
    },
    {
     "data": {
      "text/plain": [
       "<function __main__.slider_fun(x)>"
      ]
     },
     "execution_count": 2,
     "metadata": {},
     "output_type": "execute_result"
    }
   ],
   "source": [
    "# creating slider\n",
    "from ipywidgets import interact\n",
    "\n",
    "def slider_fun(x):\n",
    "    return x\n",
    "\n",
    "interact(slider_fun,x=200) \n",
    "interact(slider_fun,x=10.00)#float_slider by passing float no.\n",
    "interact(slider_fun,x=(0,50,5))"
   ]
  },
  {
   "cell_type": "code",
   "execution_count": 5,
   "id": "4db0204f",
   "metadata": {},
   "outputs": [
    {
     "data": {
      "application/vnd.jupyter.widget-view+json": {
       "model_id": "b6da98f8faf44654909fd27251be93dd",
       "version_major": 2,
       "version_minor": 0
      },
      "text/plain": [
       "interactive(children=(Checkbox(value=False, description='x'), Output()), _dom_classes=('widget-interact',))"
      ]
     },
     "metadata": {},
     "output_type": "display_data"
    },
    {
     "data": {
      "text/plain": [
       "<function __main__.checkbox_fun(x)>"
      ]
     },
     "execution_count": 5,
     "metadata": {},
     "output_type": "execute_result"
    }
   ],
   "source": [
    "# Creating checkbox\n",
    "from ipywidgets import interact\n",
    "def checkbox_fun(x):\n",
    "    return x\n",
    "interact(checkbox_fun,x=False)"
   ]
  },
  {
   "cell_type": "code",
   "execution_count": 6,
   "id": "15aecae0",
   "metadata": {},
   "outputs": [
    {
     "data": {
      "application/vnd.jupyter.widget-view+json": {
       "model_id": "3c718eff461643acbc3784b0e44a868b",
       "version_major": 2,
       "version_minor": 0
      },
      "text/plain": [
       "interactive(children=(Text(value='UST Global', description='x'), Output()), _dom_classes=('widget-interact',))"
      ]
     },
     "metadata": {},
     "output_type": "display_data"
    },
    {
     "data": {
      "text/plain": [
       "<function __main__.textbox_fun(x)>"
      ]
     },
     "execution_count": 6,
     "metadata": {},
     "output_type": "execute_result"
    }
   ],
   "source": [
    "# creating Textbox\n",
    "from ipywidgets import interact\n",
    "def textbox_fun(x):\n",
    "    return x\n",
    "\n",
    "interact(textbox_fun,x='UST Global') \n",
    "# we can edit the textbox\n"
   ]
  },
  {
   "cell_type": "code",
   "execution_count": 7,
   "id": "ee71fe0d",
   "metadata": {},
   "outputs": [
    {
     "data": {
      "application/vnd.jupyter.widget-view+json": {
       "model_id": "715add5dd11e4a9ab887490b9bb6af0a",
       "version_major": 2,
       "version_minor": 0
      },
      "text/plain": [
       "interactive(children=(Dropdown(description='x', options=(('Python', 'Django', 'Flask'), ('Java', 'SpringBoot',…"
      ]
     },
     "metadata": {},
     "output_type": "display_data"
    },
    {
     "data": {
      "text/plain": [
       "<function __main__.dropdown_fun(x)>"
      ]
     },
     "execution_count": 7,
     "metadata": {},
     "output_type": "execute_result"
    }
   ],
   "source": [
    "# creating Dropdown\n",
    "from ipywidgets import interact\n",
    "def dropdown_fun(x):\n",
    "    return x\n",
    "select=[('Python','Django','Flask'),('Java','SpringBoot','Hibernet'),('Php','laravel','cake')]\n",
    "interact(dropdown_fun,x=select)"
   ]
  },
  {
   "cell_type": "code",
   "execution_count": 8,
   "id": "fe130f3c",
   "metadata": {},
   "outputs": [
    {
     "data": {
      "application/vnd.jupyter.widget-view+json": {
       "model_id": "2aa169ad1c324673965470b76a987b31",
       "version_major": 2,
       "version_minor": 0
      },
      "text/plain": [
       "interactive(children=(IntSlider(value=10, description='x', max=30, min=-10), Output()), _dom_classes=('widget-…"
      ]
     },
     "metadata": {},
     "output_type": "display_data"
    }
   ],
   "source": [
    "# Interactive FUnction\n",
    "from ipywidgets import interactive\n",
    "from IPython.display import display\n",
    "\n",
    "def test(x):\n",
    "    return x\n",
    "\n",
    "w=interactive(test,x=10)\n",
    "# display(w)"
   ]
  },
  {
   "cell_type": "markdown",
   "id": "8cce1ac3",
   "metadata": {},
   "source": [
    "# widgets"
   ]
  },
  {
   "cell_type": "code",
   "execution_count": null,
   "id": "406d7b65",
   "metadata": {},
   "outputs": [],
   "source": [
    "# file upload\n",
    "from ipywidgets import FileUpload\n",
    "\n",
    "FileUpload(accept='.pdf',multiple=False)"
   ]
  },
  {
   "cell_type": "code",
   "execution_count": 3,
   "id": "322ee082",
   "metadata": {},
   "outputs": [
    {
     "data": {
      "application/vnd.jupyter.widget-view+json": {
       "model_id": "537c8ba5aca747c882a86877545f7fae",
       "version_major": 2,
       "version_minor": 0
      },
      "text/plain": [
       "Password(description='Password')"
      ]
     },
     "metadata": {},
     "output_type": "display_data"
    }
   ],
   "source": [
    "# widget function\n",
    "from ipywidgets import Password\n",
    "Password(description='Password')"
   ]
  },
  {
   "cell_type": "code",
   "execution_count": 4,
   "id": "9d892cbb",
   "metadata": {},
   "outputs": [
    {
     "data": {
      "application/vnd.jupyter.widget-view+json": {
       "model_id": "8dbf2ae1f7d34f1bad085def3f886808",
       "version_major": 2,
       "version_minor": 0
      },
      "text/plain": [
       "ColorPicker(value='Black', description='choose color')"
      ]
     },
     "metadata": {},
     "output_type": "display_data"
    }
   ],
   "source": [
    "from ipywidgets import ColorPicker\n",
    "ColorPicker(description='choose color',value='Black')"
   ]
  },
  {
   "cell_type": "code",
   "execution_count": 3,
   "id": "a143ac61",
   "metadata": {},
   "outputs": [
    {
     "data": {
      "application/vnd.jupyter.widget-view+json": {
       "model_id": "db69de3069f34cbcbcfd50313ac3facf",
       "version_major": 2,
       "version_minor": 0
      },
      "text/plain": [
       "RadioButtons(description='please select', options=('single', 'Married', 'Divorced'), value='single')"
      ]
     },
     "metadata": {},
     "output_type": "display_data"
    }
   ],
   "source": [
    "from ipywidgets import RadioButtons\n",
    "RadioButtons(description='please select',options=['single','Married','Divorced'])"
   ]
  },
  {
   "cell_type": "code",
   "execution_count": 16,
   "id": "17add68c",
   "metadata": {},
   "outputs": [
    {
     "data": {
      "application/vnd.jupyter.widget-view+json": {
       "model_id": "b4e362be40054729a1391466ed9b590a",
       "version_major": 2,
       "version_minor": 0
      },
      "text/plain": [
       "IntSlider(value=21, description='Age', max=70, min=18)"
      ]
     },
     "metadata": {},
     "output_type": "display_data"
    }
   ],
   "source": [
    "from ipywidgets import IntSlider\n",
    "IntSlider(description='Age',value=21,max=70,min=18,)"
   ]
  },
  {
   "cell_type": "code",
   "execution_count": 18,
   "id": "e1df9c21",
   "metadata": {},
   "outputs": [
    {
     "data": {
      "application/vnd.jupyter.widget-view+json": {
       "model_id": "6e5dfa971eb44223b1930182c20ddd9b",
       "version_major": 2,
       "version_minor": 0
      },
      "text/plain": [
       "IntProgress(value=75, description='Downloading')"
      ]
     },
     "metadata": {},
     "output_type": "display_data"
    }
   ],
   "source": [
    "from ipywidgets import IntProgress\n",
    "\n",
    "IntProgress(description='Downloading',value=75,min=0,max=100)"
   ]
  },
  {
   "cell_type": "code",
   "execution_count": 19,
   "id": "11aae053",
   "metadata": {},
   "outputs": [
    {
     "data": {
      "application/vnd.jupyter.widget-view+json": {
       "model_id": "e276b768e7c547229bb815b761d7ab82",
       "version_major": 2,
       "version_minor": 0
      },
      "text/plain": [
       "BoundedIntText(value=7, description='Rating', max=10, min=1)"
      ]
     },
     "metadata": {},
     "output_type": "display_data"
    }
   ],
   "source": [
    "from ipywidgets import BoundedIntText\n",
    "BoundedIntText(description='Rating',max=10,min=1,value=7)"
   ]
  },
  {
   "cell_type": "code",
   "execution_count": 20,
   "id": "24a6fe70",
   "metadata": {},
   "outputs": [
    {
     "data": {
      "application/vnd.jupyter.widget-view+json": {
       "model_id": "f9a4c8b450374b04895bc2316f7af994",
       "version_major": 2,
       "version_minor": 0
      },
      "text/plain": [
       "ToggleButton(value=False, button_style='success', description='click me')"
      ]
     },
     "metadata": {},
     "output_type": "display_data"
    }
   ],
   "source": [
    "from ipywidgets import ToggleButton\n",
    "ToggleButton(description='click me',button_style='success')#danger,warning"
   ]
  },
  {
   "cell_type": "code",
   "execution_count": 21,
   "id": "6c8b8534",
   "metadata": {},
   "outputs": [
    {
     "data": {
      "application/vnd.jupyter.widget-view+json": {
       "model_id": "ee95eada62a245a6a6183119d2557979",
       "version_major": 2,
       "version_minor": 0
      },
      "text/plain": [
       "Checkbox(value=False, description='Vaccinated')"
      ]
     },
     "metadata": {},
     "output_type": "display_data"
    }
   ],
   "source": [
    "from ipywidgets import Checkbox\n",
    "Checkbox(description='Vaccinated',value=False)"
   ]
  },
  {
   "cell_type": "code",
   "execution_count": 26,
   "id": "36e59501",
   "metadata": {},
   "outputs": [
    {
     "data": {
      "application/vnd.jupyter.widget-view+json": {
       "model_id": "0113140f88584891ac43f188bbb0ed03",
       "version_major": 2,
       "version_minor": 0
      },
      "text/plain": [
       "Dropdown(description='Select no of Items:', options=('1', '2', '3', '4', '5'), value='1')"
      ]
     },
     "metadata": {},
     "output_type": "display_data"
    }
   ],
   "source": [
    "from ipywidgets import Dropdown\n",
    "Dropdown(description='Select no of Items:',options=['1','2','3','4','5'],value='1')\n"
   ]
  },
  {
   "cell_type": "code",
   "execution_count": 29,
   "id": "5b39765c",
   "metadata": {},
   "outputs": [
    {
     "data": {
      "application/vnd.jupyter.widget-view+json": {
       "model_id": "ae110d181f774578a09e7ba78c117bf1",
       "version_major": 2,
       "version_minor": 0
      },
      "text/plain": [
       "Select(description='OS:', index=2, options=('Linux', 'Windows', 'IOS'), value='IOS')"
      ]
     },
     "metadata": {},
     "output_type": "display_data"
    }
   ],
   "source": [
    "from ipywidgets import Select\n",
    "Select(description='OS:',options=['Linux', 'Windows', 'IOS'],value='IOS')"
   ]
  },
  {
   "cell_type": "code",
   "execution_count": 36,
   "id": "1b7f92b1",
   "metadata": {},
   "outputs": [
    {
     "data": {
      "application/vnd.jupyter.widget-view+json": {
       "model_id": "f5a8681d546e4fa1a7ad0260d30be268",
       "version_major": 2,
       "version_minor": 0
      },
      "text/plain": [
       "HBox(children=(Play(value=95, min=1), IntSlider(value=0)))"
      ]
     },
     "metadata": {},
     "output_type": "display_data"
    }
   ],
   "source": [
    "from ipywidgets import Play,IntSlider,HBox\n",
    "p=Play(value='95',min='1',max='100')\n",
    "\n"
   ]
  },
  {
   "cell_type": "code",
   "execution_count": null,
   "id": "82bfa71d",
   "metadata": {},
   "outputs": [],
   "source": []
  }
 ],
 "metadata": {
  "kernelspec": {
   "display_name": "Python 3 (ipykernel)",
   "language": "python",
   "name": "python3"
  },
  "language_info": {
   "codemirror_mode": {
    "name": "ipython",
    "version": 3
   },
   "file_extension": ".py",
   "mimetype": "text/x-python",
   "name": "python",
   "nbconvert_exporter": "python",
   "pygments_lexer": "ipython3",
   "version": "3.9.7"
  }
 },
 "nbformat": 4,
 "nbformat_minor": 5
}
