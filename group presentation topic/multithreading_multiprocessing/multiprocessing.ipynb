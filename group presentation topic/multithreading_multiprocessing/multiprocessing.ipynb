{
 "cells": [
  {
   "cell_type": "markdown",
   "id": "435aa77c",
   "metadata": {},
   "source": [
    "# Multiprocessing \n",
    "\n"
   ]
  },
  {
   "cell_type": "code",
   "execution_count": 2,
   "id": "ba5c0c9f",
   "metadata": {},
   "outputs": [],
   "source": [
    "from multiprocessing import Process\n",
    "def display(my_name):\n",
    "    print('Hi !!!' + \" \" + my_name)\n",
    "if __name__ == '__main__':\n",
    "    p = Process(target=display, args=('Python'))\n",
    "    p.start()\n",
    "    p.join()"
   ]
  },
  {
   "cell_type": "code",
   "execution_count": null,
   "id": "eb950f50",
   "metadata": {},
   "outputs": [],
   "source": [
    "# calculating the square  of all the no.\n",
    "from multiprocessing import Pool\n",
    "def test(a):\n",
    "    return a*a \n",
    "\n",
    "if __name__=='__main__':\n",
    "    l1=[1,2,3,4,5,6]\n",
    "    p=Pool()  #creating object of Pool class\n",
    "    result=p.map(test,l1) #map function will divide work into multiple cores\n",
    "    print(result)\n",
    "    \n",
    "    "
   ]
  },
  {
   "cell_type": "code",
   "execution_count": null,
   "id": "2fb88170",
   "metadata": {},
   "outputs": [],
   "source": [
    "from multiprocessing import Pool\n",
    "import time \n",
    "def test(x):\n",
    "    sum=0\n",
    "    for i in range(10000):\n",
    "        sum=sum+i*i\n",
    "    return sum\n",
    "\n",
    "if __name__=='__main__':\n",
    "    t1=time.time() \n",
    "    p=Pool()\n",
    "    result=p.map(test,range(10000))\n",
    "    p.close()\n",
    "    p.join()\n",
    "    print('time taken by pool:',time.time()-t1)\n",
    "    \n",
    "    print('-----------------------------------')\n",
    "    \n",
    "    #2nd section\n",
    "    t2=time.time()\n",
    "    result_one=[]\n",
    "    for i in range(10000):\n",
    "        result_one.append(test(i))\n",
    "    print('normal process take :',time.time()-t2)"
   ]
  },
  {
   "cell_type": "code",
   "execution_count": 1,
   "id": "6a4088b4",
   "metadata": {},
   "outputs": [
    {
     "data": {
      "text/plain": [
       "7"
      ]
     },
     "execution_count": 1,
     "metadata": {},
     "output_type": "execute_result"
    }
   ],
   "source": [
    "2+5"
   ]
  },
  {
   "cell_type": "code",
   "execution_count": null,
   "id": "5ea788b8",
   "metadata": {},
   "outputs": [],
   "source": []
  }
 ],
 "metadata": {
  "kernelspec": {
   "display_name": "Python 3 (ipykernel)",
   "language": "python",
   "name": "python3"
  },
  "language_info": {
   "codemirror_mode": {
    "name": "ipython",
    "version": 3
   },
   "file_extension": ".py",
   "mimetype": "text/x-python",
   "name": "python",
   "nbconvert_exporter": "python",
   "pygments_lexer": "ipython3",
   "version": "3.9.7"
  }
 },
 "nbformat": 4,
 "nbformat_minor": 5
}
