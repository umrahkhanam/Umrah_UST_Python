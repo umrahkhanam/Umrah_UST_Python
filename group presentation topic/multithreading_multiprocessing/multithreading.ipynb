{
 "cells": [
  {
   "cell_type": "markdown",
   "id": "caa6be7d",
   "metadata": {},
   "source": [
    "# Multithreading"
   ]
  },
  {
   "cell_type": "code",
   "execution_count": null,
   "id": "7cc8efa9",
   "metadata": {},
   "outputs": [],
   "source": [
    "# Thread\n",
    "# multithreading\n",
    "# where we use multithreading\n",
    "# example of multithreading\n",
    "# talking about main thread\n",
    "# ways of creating a thread"
   ]
  },
  {
   "cell_type": "code",
   "execution_count": 1,
   "id": "e6db935c",
   "metadata": {},
   "outputs": [
    {
     "name": "stdout",
     "output_type": "stream",
     "text": [
      "15\n"
     ]
    }
   ],
   "source": [
    "# checking main thread\n",
    "a=10\n",
    "b=5\n",
    "c=a+b\n",
    "print(c)    \n",
    "# when we execute this program internally thread is running. lets check"
   ]
  },
  {
   "cell_type": "code",
   "execution_count": 2,
   "id": "d6c35673",
   "metadata": {},
   "outputs": [
    {
     "name": "stdout",
     "output_type": "stream",
     "text": [
      "15\n",
      "MainThread\n"
     ]
    }
   ],
   "source": [
    "#to check the current thread which is running\n",
    "import threading #\n",
    "\n",
    "thread=threading.current_thread().getName()\n",
    "\n",
    "a=10\n",
    "b=5\n",
    "c=a+b\n",
    "print(c)\n",
    "print(thread)\n"
   ]
  },
  {
   "cell_type": "code",
   "execution_count": 8,
   "id": "d0b47fd7",
   "metadata": {},
   "outputs": [
    {
     "name": "stdout",
     "output_type": "stream",
     "text": [
      "thread is runnig 22\n",
      "thread is runnig 25\n"
     ]
    }
   ],
   "source": [
    "# create a thread without using class\n",
    "from threading import Thread\n",
    "\n",
    "def test(a,b):   #creating function and passing argument\n",
    "    print('thread is runnig',a+b)\n",
    "\n",
    "t1=Thread(target=test,args=(10,12))# now creating an object\n",
    "t2=Thread(target=test,args=(10,15))\n",
    "t1.start()  #staring the thread   \n",
    "t2.start()\n",
    "\n",
    "\n",
    "    "
   ]
  },
  {
   "cell_type": "code",
   "execution_count": 9,
   "id": "da61902d",
   "metadata": {},
   "outputs": [
    {
     "name": "stdout",
     "output_type": "stream",
     "text": [
      "thread is runnigthread is runnig thread is runnig10 10\n",
      "thread is runnig\n",
      " thread is runnig10 thread is runnig \n",
      "1010 10\n",
      "\n",
      "\n",
      "thread is runnig 10\n",
      "thread is runnigthread is runnig  10\n",
      "10\n",
      "thread is runnig 10\n"
     ]
    }
   ],
   "source": [
    "from threading import Thread\n",
    "\n",
    "def test(a):   #creating function\n",
    "    print('thread is runnig',a)\n",
    "    \n",
    "for i in range(10):\n",
    "    t1=Thread(target=test,args=(10,))\n",
    "    t1.start()\n",
    "    \n"
   ]
  },
  {
   "cell_type": "code",
   "execution_count": 10,
   "id": "1d241701",
   "metadata": {},
   "outputs": [
    {
     "name": "stdout",
     "output_type": "stream",
     "text": [
      "thread is runnig 22\n"
     ]
    }
   ],
   "source": [
    "# create a thread without using class\n",
    "from threading import Thread\n",
    "\n",
    "def test(a,b):   #creating function\n",
    "    print('thread is runnig',a+b)\n",
    "\n",
    "t1=Thread(target=test,args=(10,12))# now creating an object\n",
    "t1.start()  #staring the thread   \n",
    "\n"
   ]
  },
  {
   "cell_type": "code",
   "execution_count": 11,
   "id": "1183ce93",
   "metadata": {},
   "outputs": [
    {
     "name": "stdout",
     "output_type": "stream",
     "text": [
      "Default child thread nameDefault main thread name UST\n",
      "new name of main thread Thread-39\n",
      "new name of child thread my_thread\n",
      " UST\n"
     ]
    }
   ],
   "source": [
    "# set and get thread name\n",
    "from threading import Thread,current_thread\n",
    "\n",
    "def set_get():\n",
    "    print('Default child thread name',current_thread().getName())#getName() getting the thread name\n",
    "    current_thread().setName('my_thread')\n",
    "    print('new name of child thread',current_thread().getName())\n",
    "\n",
    "t1=Thread(target=set_get)#creating object\n",
    "t1.start()\n",
    "#-----------------------------------------------------------------------------------------------------------\n",
    "print('Default main thread name',current_thread().getName())#getName() getting the thread name\n",
    "current_thread().setName('UST')\n",
    "print('new name of main thread',current_thread().getName())\n"
   ]
  },
  {
   "cell_type": "code",
   "execution_count": 13,
   "id": "0be4abbb",
   "metadata": {},
   "outputs": [
    {
     "name": "stdout",
     "output_type": "stream",
     "text": [
      "Thread-41\n"
     ]
    }
   ],
   "source": [
    "# creating a thread by creating a child class to Thread class\n",
    "from threading import Thread \n",
    "class Mythread(Thread):\n",
    "    pass\n",
    "t=Mythread()\n",
    "print(t.name)\n",
    "    \n",
    "    \n",
    "        "
   ]
  },
  {
   "cell_type": "code",
   "execution_count": 6,
   "id": "6a84e2ba",
   "metadata": {},
   "outputs": [
    {
     "name": "stdout",
     "output_type": "stream",
     "text": [
      "child threadmain thread\n",
      "main thread\n",
      "main thread\n",
      "main thread\n",
      "main thread\n",
      "\n",
      "child thread\n",
      "child thread\n",
      "child thread\n",
      "child thread\n"
     ]
    }
   ],
   "source": [
    "from threading import Thread\n",
    "class Mythread(Thread):\n",
    "    def run(self):\n",
    "        for i in range(5):\n",
    "            print('child thread')\n",
    "\n",
    "t1=Mythread()\n",
    "t1.start()\n",
    "\n",
    "for i in range(5):\n",
    "    print(\"main thread\")"
   ]
  },
  {
   "cell_type": "code",
   "execution_count": 4,
   "id": "aa1aa920",
   "metadata": {},
   "outputs": [
    {
     "name": "stdout",
     "output_type": "stream",
     "text": [
      "child thread\n",
      "child thread\n",
      "child thread\n",
      "child thread\n",
      "child thread\n",
      "main thread\n",
      "main thread\n",
      "main thread\n",
      "main thread\n",
      "main thread\n"
     ]
    }
   ],
   "source": [
    "from threading import Thread\n",
    "class Mythread(Thread):\n",
    "    def run(self):\n",
    "        for i in range(5):\n",
    "            print('child thread')\n",
    "\n",
    "t1=Mythread()\n",
    "t1.start()\n",
    "t1.join()\n",
    "\n",
    "for i in range(5):\n",
    "    print(\"main thread\")"
   ]
  },
  {
   "cell_type": "code",
   "execution_count": 7,
   "id": "22a48a88",
   "metadata": {},
   "outputs": [
    {
     "name": "stdout",
     "output_type": "stream",
     "text": [
      "childclass a 10\n"
     ]
    }
   ],
   "source": [
    "# thread with constructor\n",
    "from threading import *\n",
    "class Mythread(Thread): #creating child class and inherit parent class Thread\n",
    "    def __init__(self,a):  #creating constructor\n",
    "        Thread.__init__(self)  #calling Thread class constructo\n",
    "        self.a=a\n",
    "    def display(self):\n",
    "        print(\"childclass a\",self.a)\n",
    "        \n",
    "t=Mythread(10)\n",
    "t.display()\n",
    "t.start()\n",
    "\n"
   ]
  },
  {
   "cell_type": "code",
   "execution_count": 18,
   "id": "02c4c838",
   "metadata": {},
   "outputs": [
    {
     "name": "stdout",
     "output_type": "stream",
     "text": [
      "sum of 4 and 7 is 11Thread-25\n",
      "\n",
      "sum of 15 and 45 is 60Thread-26\n",
      "\n"
     ]
    }
   ],
   "source": [
    "# creating a thread without creating child class to thread class\n",
    "# from threading import Thread\n",
    "class Mythread:\n",
    "    def test(self,a,b):\n",
    "        c=a+b\n",
    "        print(\"sum of {0} and {1} is {2}\".format(a,b,c))\n",
    "obj=Mythread()\n",
    "# obj.test(5,6)\n",
    "t1=Thread(target=obj.test,args=(4,7))\n",
    "t2=Thread(target=obj.test,args=(15,45))\n",
    "t1.start()\n",
    "print(t1.name)\n",
    "t2.start()\n",
    "print(t2.name)"
   ]
  },
  {
   "cell_type": "code",
   "execution_count": 19,
   "id": "0c29439d",
   "metadata": {},
   "outputs": [
    {
     "name": "stdout",
     "output_type": "stream",
     "text": [
      "Take order from tableServer order from table  1\n",
      "Server order from table 2\n",
      "Server order from table 3\n",
      "Server order from table 4\n",
      "Server order from table 5\n",
      "Server order from table 6\n",
      "1Server order from table 7\n",
      "Server order from table 8\n",
      "Server order from table 9\n",
      "Server order from table 10\n",
      "\n",
      "Take order from table 2\n",
      "Take order from table 3\n",
      "Take order from table 4\n",
      "Take order from table 5\n",
      "Take order from table 6\n",
      "Take order from table 7\n",
      "Take order from table 8\n",
      "Take order from table 9\n",
      "Take order from table 10\n"
     ]
    }
   ],
   "source": [
    "# for executing multiple task at a time we neen more than one thread.this process is called multithreading\n",
    "from threading import Thread\n",
    "class Hotel:\n",
    "    def __init__(self,t):\n",
    "        self.t=t\n",
    "    def food(self):\n",
    "        for i in range(1,11):  #number of table\n",
    "            print(self.t,i)\n",
    "h1=Hotel('Take order from table')\n",
    "h2=Hotel('Server order from table')\n",
    "t1=Thread(target=h1.food)\n",
    "t2=Thread(target=h2.food)\n",
    "t1.start()\n",
    "t2.start()"
   ]
  },
  {
   "cell_type": "markdown",
   "id": "7eb402bd",
   "metadata": {},
   "source": [
    "# Multiprocessing"
   ]
  },
  {
   "cell_type": "code",
   "execution_count": null,
   "id": "94cee2bc",
   "metadata": {},
   "outputs": [],
   "source": []
  },
  {
   "cell_type": "code",
   "execution_count": null,
   "id": "f0c35e04",
   "metadata": {},
   "outputs": [],
   "source": []
  }
 ],
 "metadata": {
  "kernelspec": {
   "display_name": "Python 3 (ipykernel)",
   "language": "python",
   "name": "python3"
  },
  "language_info": {
   "codemirror_mode": {
    "name": "ipython",
    "version": 3
   },
   "file_extension": ".py",
   "mimetype": "text/x-python",
   "name": "python",
   "nbconvert_exporter": "python",
   "pygments_lexer": "ipython3",
   "version": "3.9.7"
  }
 },
 "nbformat": 4,
 "nbformat_minor": 5
}
